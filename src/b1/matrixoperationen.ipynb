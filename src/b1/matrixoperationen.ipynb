{
 "cells": [
  {
   "cell_type": "markdown",
   "metadata": {},
   "source": [
    "# Matrixoperationen"
   ]
  },
  {
   "cell_type": "code",
   "execution_count": 1,
   "metadata": {},
   "outputs": [],
   "source": [
    "import numpy as np"
   ]
  },
  {
   "cell_type": "code",
   "execution_count": 2,
   "metadata": {},
   "outputs": [
    {
     "name": "stdout",
     "output_type": "stream",
     "text": [
      "A (3, 5)\n",
      "B (4, 5)\n",
      "C (3, 4)\n",
      "D (5, 3)\n"
     ]
    }
   ],
   "source": [
    "# zufällige Matrizen mit richtiger Dimension\n",
    "A = np.eye(5)[:3]       # (3,5)\n",
    "print('A', np.shape(A))\n",
    "\n",
    "B = np.eye(5)[:4]       # (4,5)\n",
    "print('B', np.shape(B))\n",
    "\n",
    "C = np.eye(4)[:3]       # (3,4)\n",
    "print('C', np.shape(C))\n",
    "\n",
    "D = np.eye(5)[:3].T     # (5,3)\n",
    "print('D', np.shape(D))"
   ]
  },
  {
   "cell_type": "markdown",
   "metadata": {},
   "source": [
    "## $A+B$\n",
    "\n",
    "- $(3,5) + (4,5) \\to$ nicht definiert"
   ]
  },
  {
   "cell_type": "code",
   "execution_count": 3,
   "metadata": {},
   "outputs": [],
   "source": [
    "# np.shape(A + B)"
   ]
  },
  {
   "cell_type": "markdown",
   "metadata": {},
   "source": [
    "## $ADC$\n",
    "\n",
    "- für Multiplikation müssen Anz. Spalten mit Anz. Zeilen übereinstimmen\n",
    "- Resultat ist Zeilen $\\times$ Spalten Matrix\n",
    "- $\\cdot: R^{l \\times m} \\times R^{m \\times n} \\to R^{l \\times n}$\n",
    "\n",
    "* $A \\cdot D = (3,5) \\cdot (5,3) = (3,3)$\n",
    "* $(A \\cdot D) \\cdot C = (3,3) \\cdot (3,4) =  (3,4)$"
   ]
  },
  {
   "cell_type": "code",
   "execution_count": 4,
   "metadata": {},
   "outputs": [
    {
     "name": "stdout",
     "output_type": "stream",
     "text": [
      "(3, 3)\n",
      "(3, 4)\n"
     ]
    }
   ],
   "source": [
    "print(np.shape(np.matmul(A, D)))\n",
    "print(np.shape(np.matmul(np.matmul(A, D), C)))"
   ]
  },
  {
   "cell_type": "markdown",
   "metadata": {},
   "source": [
    "## $CB+A$\n",
    "\n",
    "- $C \\cdot B = (3,4) \\cdot (4,5) = (3,5)$\n",
    "- $(C \\cdot B) + A = (3,5) + (3,5) = (3,5)$"
   ]
  },
  {
   "cell_type": "code",
   "execution_count": 5,
   "metadata": {},
   "outputs": [
    {
     "name": "stdout",
     "output_type": "stream",
     "text": [
      "(3, 5)\n",
      "(3, 5)\n"
     ]
    }
   ],
   "source": [
    "CB = np.matmul(C, B)\n",
    "print(np.shape(CB))\n",
    "\n",
    "print(np.shape(CB + A))"
   ]
  },
  {
   "cell_type": "markdown",
   "metadata": {},
   "source": [
    "## $B - DC$\n",
    "\n",
    "- $D \\cdot C = (5,3) \\cdot (3,4) = (5,4)$\n",
    "- $B - (D \\cdot C) = (4,5) - (5,4) \\to$ nicht definiert"
   ]
  },
  {
   "cell_type": "code",
   "execution_count": 6,
   "metadata": {},
   "outputs": [
    {
     "name": "stdout",
     "output_type": "stream",
     "text": [
      "(5, 4)\n"
     ]
    }
   ],
   "source": [
    "DC = np.matmul(D, C)\n",
    "print(np.shape(DC))\n",
    "\n",
    "# np.shape(B - np.matmul(D, C))"
   ]
  },
  {
   "cell_type": "markdown",
   "metadata": {},
   "source": [
    "## $B + C^T D^T$\n",
    "\n",
    "- $C^T \\cdot D^T = (4,3) \\cdot (3,5) = (4,5)$\n",
    "- $B + (C^T \\cdot D^T) = (4,5) + (4,5) = (4,5)$"
   ]
  },
  {
   "cell_type": "code",
   "execution_count": 7,
   "metadata": {},
   "outputs": [
    {
     "name": "stdout",
     "output_type": "stream",
     "text": [
      "(4, 5)\n",
      "(4, 5)\n"
     ]
    }
   ],
   "source": [
    "CTDT = np.matmul(C.T, D.T)\n",
    "print(np.shape(CTDT))\n",
    "\n",
    "print(np.shape(B + CTDT))"
   ]
  },
  {
   "cell_type": "markdown",
   "metadata": {},
   "source": [
    "## $D^{-1}$\n",
    "\n",
    "- $A \\cdot A^{-1} = A^{-1} \\cdot A = I$\n",
    "- gleiche Dimensionen\n",
    "- **aber** Matrix muss quadratisch ($R^{n\\times n}$) sein!\n",
    "- d.h. für $(5,3)$ nicht definiert!"
   ]
  },
  {
   "cell_type": "code",
   "execution_count": 8,
   "metadata": {},
   "outputs": [],
   "source": [
    "# shape(np.linalg.inv(D))"
   ]
  }
 ],
 "metadata": {
  "kernelspec": {
   "display_name": ".venv",
   "language": "python",
   "name": "python3"
  },
  "language_info": {
   "codemirror_mode": {
    "name": "ipython",
    "version": 3
   },
   "file_extension": ".py",
   "mimetype": "text/x-python",
   "name": "python",
   "nbconvert_exporter": "python",
   "pygments_lexer": "ipython3",
   "version": "3.12.3"
  }
 },
 "nbformat": 4,
 "nbformat_minor": 2
}
