{
 "cells": [
  {
   "cell_type": "markdown",
   "metadata": {},
   "source": [
    "# Vektornormen"
   ]
  },
  {
   "cell_type": "code",
   "execution_count": 1,
   "metadata": {},
   "outputs": [],
   "source": [
    "import numpy as np\n",
    "\n",
    "x = np.array([0, 7, 8])\n",
    "y = np.array([3, -4, -5])"
   ]
  },
  {
   "cell_type": "markdown",
   "metadata": {},
   "source": [
    "## Summennorm / $1$-Norm\n",
    "\n",
    "$$||\\mathbf{x}||_1 = \\sum_{i=1}^{n}{|x_i|}$$"
   ]
  },
  {
   "cell_type": "code",
   "execution_count": 2,
   "metadata": {},
   "outputs": [
    {
     "name": "stdout",
     "output_type": "stream",
     "text": [
      "27\n",
      "27.0\n"
     ]
    }
   ],
   "source": [
    "dist_1 = np.sum(np.abs(x - y))\n",
    "print(dist_1)\n",
    "\n",
    "dist_1 = np.linalg.norm(x - y, 1)\n",
    "print(dist_1)"
   ]
  },
  {
   "cell_type": "markdown",
   "metadata": {},
   "source": [
    "## Euklidische Norm / $2$-Norm\n",
    "\n",
    "$$||\\mathbf{x}||_2 = \\sqrt{ \\sum_{i=1}^{n}{x_i^2} } = \\sqrt{\\mathbf{x}^T \\mathbf{x}}$$"
   ]
  },
  {
   "cell_type": "code",
   "execution_count": 5,
   "metadata": {},
   "outputs": [
    {
     "name": "stdout",
     "output_type": "stream",
     "text": [
      "sqrt(299)\n",
      "17.2916\n",
      "17.2916\n"
     ]
    }
   ],
   "source": [
    "print('sqrt(', np.sum((x - y) ** 2), ')', sep='')\n",
    "dist_2 = np.sqrt(np.sum((x - y) ** 2))\n",
    "print(np.round(dist_2, decimals=4))\n",
    "\n",
    "dist_2 = np.linalg.norm(x - y, 2)\n",
    "print(np.round(dist_2, decimals=4))"
   ]
  },
  {
   "cell_type": "markdown",
   "metadata": {},
   "source": [
    "## Maximum-Norm / $\\infty$-Norm\n",
    "\n",
    "$$||\\mathbf{x}||_\\infty = \\max_{i=1,\\ldots,n} |x_i|$$"
   ]
  },
  {
   "cell_type": "code",
   "execution_count": 4,
   "metadata": {},
   "outputs": [
    {
     "name": "stdout",
     "output_type": "stream",
     "text": [
      "13\n",
      "13.0\n"
     ]
    }
   ],
   "source": [
    "dist_inf = np.max(np.abs(x - y))\n",
    "print(dist_inf)\n",
    "\n",
    "dist_inf = np.linalg.norm(x - y, np.inf)\n",
    "print(dist_inf)"
   ]
  }
 ],
 "metadata": {
  "kernelspec": {
   "display_name": ".venv",
   "language": "python",
   "name": "python3"
  },
  "language_info": {
   "codemirror_mode": {
    "name": "ipython",
    "version": 3
   },
   "file_extension": ".py",
   "mimetype": "text/x-python",
   "name": "python",
   "nbconvert_exporter": "python",
   "pygments_lexer": "ipython3",
   "version": "3.12.3"
  }
 },
 "nbformat": 4,
 "nbformat_minor": 2
}
