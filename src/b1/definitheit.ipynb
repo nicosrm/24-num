{
 "cells": [
  {
   "cell_type": "markdown",
   "metadata": {},
   "source": [
    "# Definitheit\n",
    "\n",
    "- bei Diagonal-Matrix: Betrachtung der Diagonalelemente\n",
    "    - alle $\\ge0$ $\\iff$ (semi) positiv definit\n",
    "    - alle $\\le0$ $\\iff$ (semi) negativ definit\n",
    "    - unterschiedlich $\\iff$ indefinit\n",
    "- ansonsten Betrachtung der Eigenwerte"
   ]
  },
  {
   "cell_type": "code",
   "execution_count": 2,
   "metadata": {},
   "outputs": [],
   "source": [
    "import numpy as np"
   ]
  },
  {
   "cell_type": "code",
   "execution_count": 5,
   "metadata": {},
   "outputs": [],
   "source": [
    "A = np.array([[3, 0], [-2, -3]])\n",
    "B = np.array([[3, -2], [0, -3]])"
   ]
  },
  {
   "cell_type": "code",
   "execution_count": 9,
   "metadata": {},
   "outputs": [
    {
     "data": {
      "text/plain": [
       "True"
      ]
     },
     "execution_count": 9,
     "metadata": {},
     "output_type": "execute_result"
    }
   ],
   "source": [
    "np.all(A == B.T)"
   ]
  },
  {
   "cell_type": "code",
   "execution_count": 6,
   "metadata": {},
   "outputs": [
    {
     "name": "stdout",
     "output_type": "stream",
     "text": [
      "[[ 9 -6]\n",
      " [-6 13]]\n"
     ]
    }
   ],
   "source": [
    "AB = np.matmul(A, B)\n",
    "print(AB)"
   ]
  },
  {
   "cell_type": "code",
   "execution_count": 7,
   "metadata": {},
   "outputs": [
    {
     "name": "stdout",
     "output_type": "stream",
     "text": [
      "pos def: True\n",
      "neg def: False\n"
     ]
    }
   ],
   "source": [
    "eig = np.linalg.eigvals(AB)\n",
    "print('pos def:', np.all(eig > 0))\n",
    "print('neg def:', np.all(eig < 0))"
   ]
  }
 ],
 "metadata": {
  "kernelspec": {
   "display_name": ".venv",
   "language": "python",
   "name": "python3"
  },
  "language_info": {
   "codemirror_mode": {
    "name": "ipython",
    "version": 3
   },
   "file_extension": ".py",
   "mimetype": "text/x-python",
   "name": "python",
   "nbconvert_exporter": "python",
   "pygments_lexer": "ipython3",
   "version": "3.12.3"
  }
 },
 "nbformat": 4,
 "nbformat_minor": 2
}
