{
 "cells": [
  {
   "cell_type": "markdown",
   "id": "cd4148cc",
   "metadata": {},
   "source": [
    "# Aufgabe 1\n",
    "\n",
    "## Aufagbe 1.a"
   ]
  },
  {
   "cell_type": "code",
   "execution_count": 26,
   "id": "2c3a4a70",
   "metadata": {},
   "outputs": [],
   "source": [
    "import numpy as np\n",
    "import matplotlib.pyplot as plt"
   ]
  },
  {
   "cell_type": "code",
   "execution_count": 27,
   "id": "cecc9df7",
   "metadata": {},
   "outputs": [],
   "source": [
    "x = np.array([1.0, 2.0, 3.5, 4.0, 5.0, 6.0])\n",
    "y = np.array([0.1, 0.2, 0.5, 1.0, 0.9, 1.4])"
   ]
  },
  {
   "cell_type": "code",
   "execution_count": 28,
   "id": "8905c6ce",
   "metadata": {},
   "outputs": [
    {
     "data": {
      "text/plain": [
       "[<matplotlib.lines.Line2D at 0x1109249e0>]"
      ]
     },
     "execution_count": 28,
     "metadata": {},
     "output_type": "execute_result"
    },
    {
     "data": {
      "image/png": "[encoded data removed]",
      "text/plain": [
       "<Figure size 640x480 with 1 Axes>"
      ]
     },
     "metadata": {},
     "output_type": "display_data"
    }
   ],
   "source": [
    "plt.plot(x, y, 'r+')"
   ]
  },
  {
   "cell_type": "markdown",
   "id": "e33e0a35",
   "metadata": {},
   "source": [
    "Regressionsgerade $p(x) = w_1 \\cdot x + w_2$"
   ]
  },
  {
   "cell_type": "code",
   "execution_count": 29,
   "id": "4d02bbf6",
   "metadata": {},
   "outputs": [
    {
     "name": "stdout",
     "output_type": "stream",
     "text": [
      "x_mean =  3.5833333333333335\n",
      "y_mean =  0.6833333333333332\n"
     ]
    }
   ],
   "source": [
    "n = len(x)\n",
    "\n",
    "# arithmetisches Mittel\n",
    "x_mean = np.mean(x)\n",
    "y_mean = np.mean(y)\n",
    "\n",
    "print('x_mean = ', x_mean)\n",
    "print('y_mean = ', y_mean)"
   ]
  },
  {
   "cell_type": "code",
   "execution_count": 30,
   "id": "9c2c52ca",
   "metadata": {},
   "outputs": [
    {
     "name": "stdout",
     "output_type": "stream",
     "text": [
      "s2_x = 2.868055555555556\n",
      "s2_y = 0.21138888888888885\n",
      "s_x =  1.693533452741798\n",
      "s_y =  0.45977047413779065\n"
     ]
    }
   ],
   "source": [
    "# Varianz\n",
    "s2_x = np.var(x)\n",
    "s2_y = np.var(y)\n",
    "\n",
    "print('s2_x =', s2_x)\n",
    "print('s2_y =', s2_y)\n",
    "\n",
    "# Standardabweichung\n",
    "# s_x = np.sum(x ** 2) / n - x_mean ** 2\n",
    "# s_y = np.sum(y ** 2) / n - y_mean ** 2\n",
    "s_x = np.std(x)\n",
    "s_y = np.std(y)\n",
    "\n",
    "print('s_x = ', s_x)\n",
    "print('s_y = ', s_y)"
   ]
  },
  {
   "cell_type": "code",
   "execution_count": 31,
   "id": "e17de44e",
   "metadata": {},
   "outputs": [
    {
     "name": "stdout",
     "output_type": "stream",
     "text": [
      "s_xy =  0.7430555555555554\n"
     ]
    }
   ],
   "source": [
    "# Kovarianz\n",
    "s_xy = np.sum(x * y) / n - x_mean * y_mean\n",
    "print('s_xy = ', s_xy)"
   ]
  },
  {
   "cell_type": "code",
   "execution_count": 34,
   "id": "8f654628",
   "metadata": {},
   "outputs": [
    {
     "name": "stdout",
     "output_type": "stream",
     "text": [
      "r_xy = 0.9543033047882069\n"
     ]
    }
   ],
   "source": [
    "# Korrelationskoeffizient\n",
    "r_xy = s_xy / (s_x * s_y)\n",
    "print('r_xy =', r_xy)"
   ]
  },
  {
   "cell_type": "markdown",
   "id": "a42a9e4d",
   "metadata": {},
   "source": [
    "## Aufgabe 1.b"
   ]
  },
  {
   "cell_type": "code",
   "execution_count": 40,
   "id": "7b56a174",
   "metadata": {},
   "outputs": [
    {
     "name": "stdout",
     "output_type": "stream",
     "text": [
      "w = 0.2590799031476997\n",
      "b = -0.24503631961259065\n",
      "W = [[ 0.2590799 ]\n",
      " [-0.24503632]]\n"
     ]
    }
   ],
   "source": [
    "w = s_xy / s2_x\n",
    "b = y_mean - w * x_mean\n",
    "\n",
    "print('w =', w)\n",
    "print('b =', b)\n",
    "\n",
    "W = np.empty((2, 1))\n",
    "W[0] = w\n",
    "W[1] = b\n",
    "print('W =', W)"
   ]
  },
  {
   "cell_type": "code",
   "execution_count": 38,
   "id": "f1007e35",
   "metadata": {},
   "outputs": [
    {
     "name": "stdout",
     "output_type": "stream",
     "text": [
      "0.8916666666666668\n",
      "3.4416666666666673\n",
      "w = 0.25907990314769974\n"
     ]
    }
   ],
   "source": [
    "# mit eingebauten Routinen\n",
    "# Achtung: einheitlich Stichproben / empirisch verwenden!\n",
    "print(np.cov(x, y)[0,1])\n",
    "print(np.var(x, ddof=1))\n",
    "print('w =', np.cov(x, y)[0,1] / np.var(x, ddof=1))"
   ]
  },
  {
   "cell_type": "code",
   "execution_count": 17,
   "id": "8ca00236",
   "metadata": {},
   "outputs": [],
   "source": [
    "def g(x):\n",
    "    return w * x + b"
   ]
  },
  {
   "cell_type": "code",
   "execution_count": 18,
   "id": "b85f4848",
   "metadata": {},
   "outputs": [
    {
     "name": "stdout",
     "output_type": "stream",
     "text": [
      "g(7) = 1.5685230024213073\n"
     ]
    }
   ],
   "source": [
    "endpunkt = 7\n",
    "print(f'g({endpunkt}) =', g(endpunkt))"
   ]
  },
  {
   "cell_type": "markdown",
   "id": "f09d81c6",
   "metadata": {},
   "source": [
    "## Aufgabe 1.c"
   ]
  },
  {
   "cell_type": "code",
   "execution_count": 22,
   "id": "595f9c0c",
   "metadata": {},
   "outputs": [
    {
     "name": "stdout",
     "output_type": "stream",
     "text": [
      "4.1\n",
      "21.5\n"
     ]
    }
   ],
   "source": [
    "print(np.sum(y))\n",
    "print(np.sum(x))"
   ]
  },
  {
   "cell_type": "code",
   "execution_count": 41,
   "id": "d8be19ae",
   "metadata": {},
   "outputs": [
    {
     "data": {
      "text/plain": [
       "(6, 2)"
      ]
     },
     "execution_count": 41,
     "metadata": {},
     "output_type": "execute_result"
    }
   ],
   "source": [
    "A = np.stack([x, np.ones(n)]).T\n",
    "A.shape"
   ]
  },
  {
   "cell_type": "code",
   "execution_count": 46,
   "id": "e67af581",
   "metadata": {},
   "outputs": [
    {
     "name": "stdout",
     "output_type": "stream",
     "text": [
      "W = [ 0.2590799  -0.24503632]\n",
      "w = 0.25907990314769985\n",
      "b = -0.24503631961259112\n"
     ]
    }
   ],
   "source": [
    "# Kleinste-Quadrate-Lösung\n",
    "W = np.linalg.lstsq(A, y, rcond=None)[0]\n",
    "w = W[0]\n",
    "b = W[1]\n",
    "\n",
    "print('W =', W)\n",
    "print('w =', w)\n",
    "print('b =', b)"
   ]
  },
  {
   "cell_type": "code",
   "execution_count": 47,
   "id": "e685fd63",
   "metadata": {},
   "outputs": [
    {
     "data": {
      "text/plain": [
       "<matplotlib.legend.Legend at 0x11096a3f0>"
      ]
     },
     "execution_count": 47,
     "metadata": {},
     "output_type": "execute_result"
    },
    {
     "data": {
      "image/png": "[encoded data removed]",
      "text/plain": [
       "<Figure size 640x480 with 1 Axes>"
      ]
     },
     "metadata": {},
     "output_type": "display_data"
    }
   ],
   "source": [
    "plt.plot(x, y, 'r+', label='Daten')\n",
    "plt.plot(x, w * x + b, label='g(x)')\n",
    "plt.legend()"
   ]
  },
  {
   "cell_type": "markdown",
   "id": "95334c86",
   "metadata": {},
   "source": [
    "## Aufgabe 1.d"
   ]
  },
  {
   "cell_type": "code",
   "execution_count": 53,
   "id": "fe692d43",
   "metadata": {},
   "outputs": [
    {
     "name": "stdout",
     "output_type": "stream",
     "text": [
      "[-0.01394558  0.06768707 -0.0047619   0.03265306]\n"
     ]
    },
    {
     "data": {
      "text/plain": [
       "[<matplotlib.lines.Line2D at 0x110a55340>]"
      ]
     },
     "execution_count": 53,
     "metadata": {},
     "output_type": "execute_result"
    },
    {
     "data": {
      "image/png": "[encoded data removed]",
      "text/plain": [
       "<Figure size 640x480 with 1 Axes>"
      ]
     },
     "metadata": {},
     "output_type": "display_data"
    }
   ],
   "source": [
    "A_kubisch = np.vstack([x, x ** 2, x ** 3, np.ones(n)]).T\n",
    "\n",
    "W_kubisch = np.linalg.lstsq(A_kubisch, y, rcond=None)[0]\n",
    "print(W_kubisch)\n",
    "\n",
    "x_plot = np.linspace(1, 6, 100)\n",
    "\n",
    "plt.plot(x, y, 'r+', label='Daten')\n",
    "plt.plot(x_plot, W_kubisch[0] * x_plot + W_kubisch[1] * x_plot ** 2 + W_kubisch[2] * x_plot ** 3 + W_kubisch[3], label='kub')\n"
   ]
  }
 ],
 "metadata": {
  "kernelspec": {
   "display_name": "Python 3 (ipykernel)",
   "language": "python",
   "name": "python3"
  },
  "language_info": {
   "codemirror_mode": {
    "name": "ipython",
    "version": 3
   },
   "file_extension": ".py",
   "mimetype": "text/x-python",
   "name": "python",
   "nbconvert_exporter": "python",
   "pygments_lexer": "ipython3",
   "version": "3.12.2"
  }
 },
 "nbformat": 4,
 "nbformat_minor": 5
}
