{
 "cells": [
  {
   "cell_type": "code",
   "execution_count": 1,
   "metadata": {},
   "outputs": [],
   "source": [
    "import numpy as np\n",
    "np.set_printoptions(precision=4, suppress=True)\n",
    "\n",
    "x1 = np.array([6, 6, 4, 1, 3, 0])\n",
    "x2 = np.array([1, 2, 1, 2, -1, 2])\n",
    "y = np.array([45, 55, 31, 15, 8, 3])\n",
    "\n",
    "w0 = np.array([-4, 7, 4, 0])\n",
    "alpha = 0.01\n",
    "\n",
    "j = [6, 3, 1, 4, 5, 2]"
   ]
  },
  {
   "cell_type": "code",
   "execution_count": 2,
   "metadata": {},
   "outputs": [
    {
     "name": "stdout",
     "output_type": "stream",
     "text": [
      "[[ 1.  6.  1.  6.]\n",
      " [ 1.  6.  2. 12.]\n",
      " [ 1.  4.  1.  4.]\n",
      " [ 1.  1.  2.  2.]\n",
      " [ 1.  3. -1. -3.]\n",
      " [ 1.  0.  2.  0.]]\n"
     ]
    }
   ],
   "source": [
    "n = y.size\n",
    "\n",
    "# Ausgleichsmatrix\n",
    "A = np.vstack([np.ones(n), x1, x2, x1 * x2]).T\n",
    "print(A)"
   ]
  },
  {
   "cell_type": "code",
   "execution_count": 4,
   "metadata": {},
   "outputs": [],
   "source": [
    "def gradient(w, X, y):\n",
    "    y_hat = X @ w\n",
    "    return X.T @ (y_hat - y)\n",
    "\n",
    "def sgd(w0, X, y, grad_fun, max_it, rate, perm=None):\n",
    "    w = w0\n",
    "    n = X.shape[0]\n",
    "    \n",
    "    for k in range(max_it):\n",
    "        idx = perm or np.random.permutation(n)\n",
    "        print(k + 1, 'idx:', idx)\n",
    "\n",
    "        for i in idx:\n",
    "            xi = np.array([X[i - 1]])\n",
    "            yi = np.array([y[i - 1]])\n",
    "            grad = grad_fun(w, xi, yi)\n",
    "            w = w - rate * grad\n",
    "        print(k + 1, 'W:', w)\n",
    "    \n",
    "    return w"
   ]
  },
  {
   "cell_type": "code",
   "execution_count": 5,
   "metadata": {},
   "outputs": [
    {
     "name": "stdout",
     "output_type": "stream",
     "text": [
      "1 idx: [6, 3, 1, 4, 5, 2]\n",
      "1 W: [-3.9503  7.2798  4.2002  0.7866]\n"
     ]
    }
   ],
   "source": [
    "W = sgd(w0, A, y, grad_fun=gradient, max_it=1, rate=alpha, perm=j)"
   ]
  }
 ],
 "metadata": {
  "kernelspec": {
   "display_name": ".venv",
   "language": "python",
   "name": "python3"
  },
  "language_info": {
   "codemirror_mode": {
    "name": "ipython",
    "version": 3
   },
   "file_extension": ".py",
   "mimetype": "text/x-python",
   "name": "python",
   "nbconvert_exporter": "python",
   "pygments_lexer": "ipython3",
   "version": "3.12.4"
  }
 },
 "nbformat": 4,
 "nbformat_minor": 2
}
