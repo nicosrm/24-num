{
 "cells": [
  {
   "cell_type": "markdown",
   "metadata": {},
   "source": [
    "# Aufgabe 2b: SVD, numerischer Rang, PCA"
   ]
  },
  {
   "cell_type": "code",
   "execution_count": 1,
   "metadata": {},
   "outputs": [],
   "source": [
    "import numpy as np\n",
    "np.set_printoptions(precision=4, suppress=True)\n",
    "\n",
    "n = 20_000\n",
    "m = 300\n",
    "\n",
    "def sigma(j):\n",
    "    return n * np.exp(-1 * np.sqrt(j + 8))"
   ]
  },
  {
   "cell_type": "code",
   "execution_count": 2,
   "metadata": {},
   "outputs": [
    {
     "name": "stdout",
     "output_type": "stream",
     "text": [
      "(300,)\n"
     ]
    }
   ],
   "source": [
    "sigmas = []\n",
    "\n",
    "for i in range(1, m + 1):\n",
    "    sigmas.append(sigma(i))\n",
    "\n",
    "sigmas = np.array(sigmas)\n",
    "print(sigmas.shape)"
   ]
  },
  {
   "cell_type": "markdown",
   "metadata": {},
   "source": [
    "## $2$-Norm\n",
    "\n",
    "$$\n",
    "||X||_2 = \\max \\sigma_j = \\sigma_1\n",
    "$$"
   ]
  },
  {
   "cell_type": "code",
   "execution_count": 4,
   "metadata": {},
   "outputs": [
    {
     "name": "stdout",
     "output_type": "stream",
     "text": [
      "||X||2 = 995.7414\n"
     ]
    }
   ],
   "source": [
    "X2 = np.max(sigmas)\n",
    "print(f'||X||2 = {X2:.4f}')"
   ]
  },
  {
   "cell_type": "markdown",
   "metadata": {},
   "source": [
    "## Numerischer Rang\n",
    "\n",
    "Numerischer Rang ($\\varepsilon$-Rang) von $\\mathbf{X}\\in\\mathbb{R}^{n\\times m}$ mit Singulärwerten $\\left( \\sigma_j\\right)_{j=1}^m$ und Toleranz $0<\\varepsilon \\ll n:$\n",
    "\n",
    "$\\operatorname{rang}_\\varepsilon(\\mathbf{X}) = \\text{Anzahl Singulärwerte mit}~\\sigma_j>\\varepsilon$\n",
    "\n",
    "mit $\\varepsilon = \\max{(n,m)} \\cdot \\Vert \\mathbf{X} \\Vert_2 \\cdot \\texttt{eps}$"
   ]
  },
  {
   "cell_type": "code",
   "execution_count": 9,
   "metadata": {},
   "outputs": [
    {
     "name": "stdout",
     "output_type": "stream",
     "text": [
      "73\n"
     ]
    }
   ],
   "source": [
    "eps = 1.19209 * 1e-7\n",
    "val = max(n, m) * X2 * eps\n",
    "\n",
    "rank_eps = np.count_nonzero(sigmas > val)\n",
    "print(rank_eps)"
   ]
  },
  {
   "cell_type": "markdown",
   "metadata": {},
   "source": [
    "## Absoluter Fehler Best-Approximation\n",
    "\n",
    "Absoluter Fehler einer Rang-$k$ Best-Approximation: $||\\mathbf{X} - \\mathbf{X}_k||_2 = \\sigma_{k+1}$"
   ]
  },
  {
   "cell_type": "code",
   "execution_count": 11,
   "metadata": {},
   "outputs": [
    {
     "name": "stdout",
     "output_type": "stream",
     "text": [
      "11.2478\n"
     ]
    }
   ],
   "source": [
    "k = 47\n",
    "print(f'{sigma(k + 1):.4f}')"
   ]
  },
  {
   "cell_type": "markdown",
   "metadata": {},
   "source": [
    "### Speichereinsparung\n",
    "\n",
    "$\\text{Speicher}=\\#\\text{Zeilen} \\cdot \\# \\text{Spalten} \\cdot 32~\\text{Bit}$"
   ]
  },
  {
   "cell_type": "code",
   "execution_count": 14,
   "metadata": {},
   "outputs": [
    {
     "name": "stdout",
     "output_type": "stream",
     "text": [
      "84.0975%\n"
     ]
    }
   ],
   "source": [
    "speicher_original = n * m * 32\n",
    "speicher_rang_approx = k * (n + m + 1) * 32\n",
    "\n",
    "einsparung = (1 - speicher_rang_approx / speicher_original) * 100\n",
    "print(f'{einsparung:.4f}%')"
   ]
  },
  {
   "cell_type": "markdown",
   "metadata": {},
   "source": [
    "## Bestimmung Rang\n",
    "\n",
    "> Wie groß der Rang $r$ einer Best-Approximation gewählt werden muss, damit $||X-X_r||_2 \\le 10^{-4} \\cdot ||X||_2$?\n",
    "\n",
    "$$\n",
    "\\begin{aligned}\n",
    "\\Vert X - X_r \\Vert_2 &\\le 10^{-4} \\cdot \\Vert X \\Vert_2 \\\\\n",
    "\\Rightarrow \\sigma_{r+1} &\\le 10^{-4} \\cdot \\sigma_1\n",
    "\\end{aligned}\n",
    "$$"
   ]
  },
  {
   "cell_type": "code",
   "execution_count": 40,
   "metadata": {},
   "outputs": [
    {
     "name": "stdout",
     "output_type": "stream",
     "text": [
      "goal = 0.0996\n",
      "r = 141 mit lhs = 0.0959\n"
     ]
    }
   ],
   "source": [
    "goal = 10**-4 * X2\n",
    "print(f'goal = {goal:.4f}')\n",
    "\n",
    "for i in range(1, m + 1):\n",
    "    lhs = sigma(i + 1)\n",
    "    if lhs <= goal:\n",
    "        print(f'r = {i} mit lhs = {lhs:.4f}')\n",
    "        break"
   ]
  },
  {
   "cell_type": "markdown",
   "metadata": {},
   "source": [
    "## Totale Varianz\n",
    "\n",
    "$$\n",
    "T = \\frac{1}{n - 1} \\Vert \\hat{X} \\Vert_F^2 = \\frac{1}{n - 1} \\sum_{j=1}^\\ell \\sigma_j^2\n",
    "$$"
   ]
  },
  {
   "cell_type": "code",
   "execution_count": 35,
   "metadata": {},
   "outputs": [
    {
     "name": "stdout",
     "output_type": "stream",
     "text": [
      "T = 199.6832\n"
     ]
    }
   ],
   "source": [
    "sigmas = np.array(sigmas)\n",
    "XF = np.sum(sigmas ** 2)\n",
    "T = 1 / (n - 1) * XF\n",
    "print(f'T = {T:.4f}')"
   ]
  },
  {
   "cell_type": "markdown",
   "metadata": {},
   "source": [
    "## Prozent in PCA\n",
    "\n",
    "> Wie viel $\\%$ der Totalen Varianz liegen in den ersten $3$ PCA-Hauptkomponenten?\n",
    "\n",
    "$$\n",
    "\\frac{\\frac{1}{n - 1} \\sum_{j=1}^{{\\color{red} q} \\le \\ell} \\sigma_j^2}{T} \n",
    "= \\frac{\\sum_{j=1}^{{\\color{red} q}}}{\\sum_{j=1}^{\\ell} \\sigma_j^2}\n",
    "\\le \\operatorname{Tol} < 1\n",
    "$$"
   ]
  },
  {
   "cell_type": "code",
   "execution_count": 38,
   "metadata": {},
   "outputs": [
    {
     "name": "stdout",
     "output_type": "stream",
     "text": [
      "73.1645%\n"
     ]
    }
   ],
   "source": [
    "q = 5\n",
    "\n",
    "Tp = 1 / (n - 1) * np.sum(sigmas[:q] ** 2) / T * 100\n",
    "print(f'{Tp:.4f}%')"
   ]
  }
 ],
 "metadata": {
  "kernelspec": {
   "display_name": ".venv",
   "language": "python",
   "name": "python3"
  },
  "language_info": {
   "codemirror_mode": {
    "name": "ipython",
    "version": 3
   },
   "file_extension": ".py",
   "mimetype": "text/x-python",
   "name": "python",
   "nbconvert_exporter": "python",
   "pygments_lexer": "ipython3",
   "version": "3.12.4"
  }
 },
 "nbformat": 4,
 "nbformat_minor": 2
}
