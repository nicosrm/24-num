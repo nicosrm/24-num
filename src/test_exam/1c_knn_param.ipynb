{
 "cells": [
  {
   "cell_type": "markdown",
   "metadata": {},
   "source": [
    "# Neuronale Netzwerke"
   ]
  },
  {
   "cell_type": "code",
   "execution_count": 1,
   "metadata": {},
   "outputs": [],
   "source": [
    "ell = 15\n",
    "layers = [ell, 10, 15, 10, 8, 1]"
   ]
  },
  {
   "cell_type": "code",
   "execution_count": 2,
   "metadata": {},
   "outputs": [
    {
     "name": "stdout",
     "output_type": "stream",
     "text": [
      "15 * 10 + 10\n",
      "10 * 15 + 15\n",
      "15 * 10 + 10\n",
      "10 * 8 + 8\n",
      "8 * 1 + 1\n",
      "==> 582\n"
     ]
    }
   ],
   "source": [
    "no_layers = 0\n",
    "\n",
    "for i in range(1, len(layers)):\n",
    "    l = layers[i]\n",
    "    no_layers += layers[i - 1] * l + l\n",
    "    print(f'{layers[i - 1]} * {l} + {l}')\n",
    "\n",
    "print('==>', no_layers)"
   ]
  }
 ],
 "metadata": {
  "kernelspec": {
   "display_name": ".venv",
   "language": "python",
   "name": "python3"
  },
  "language_info": {
   "codemirror_mode": {
    "name": "ipython",
    "version": 3
   },
   "file_extension": ".py",
   "mimetype": "text/x-python",
   "name": "python",
   "nbconvert_exporter": "python",
   "pygments_lexer": "ipython3",
   "version": "3.12.4"
  }
 },
 "nbformat": 4,
 "nbformat_minor": 2
}
