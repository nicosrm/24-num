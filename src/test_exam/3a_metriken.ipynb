{
 "cells": [
  {
   "cell_type": "code",
   "execution_count": 1,
   "metadata": {},
   "outputs": [],
   "source": [
    "TP = 450\n",
    "FN = 50\n",
    "FP = 60\n",
    "TN = 200"
   ]
  },
  {
   "cell_type": "code",
   "execution_count": 2,
   "metadata": {},
   "outputs": [
    {
     "name": "stdout",
     "output_type": "stream",
     "text": [
      "Umfang Test-Daten: 760\n"
     ]
    }
   ],
   "source": [
    "n_test = TP + FN + FP + TN\n",
    "print(f'Umfang Test-Daten: {n_test}')"
   ]
  },
  {
   "cell_type": "code",
   "execution_count": 3,
   "metadata": {},
   "outputs": [
    {
     "name": "stdout",
     "output_type": "stream",
     "text": [
      "acc: 0.8553\n",
      "prec: 0.8824\n",
      "recall: 0.9000\n",
      "f1: 0.8911\n"
     ]
    }
   ],
   "source": [
    "acc = (TP + TN) / n_test\n",
    "print(f'acc: {acc:.4f}')\n",
    "\n",
    "prec = TP / (TP + FP)\n",
    "print(f'prec: {prec:.4f}')\n",
    "\n",
    "recall = TP / (TP + FN)\n",
    "print(f'recall: {recall:.4f}')\n",
    "\n",
    "f1 = 2 * prec * recall / (prec + recall)\n",
    "print(f'f1: {f1:.4f}')"
   ]
  }
 ],
 "metadata": {
  "kernelspec": {
   "display_name": ".venv",
   "language": "python",
   "name": "python3"
  },
  "language_info": {
   "codemirror_mode": {
    "name": "ipython",
    "version": 3
   },
   "file_extension": ".py",
   "mimetype": "text/x-python",
   "name": "python",
   "nbconvert_exporter": "python",
   "pygments_lexer": "ipython3",
   "version": "3.12.4"
  }
 },
 "nbformat": 4,
 "nbformat_minor": 2
}
