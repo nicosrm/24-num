{
 "cells": [
  {
   "cell_type": "markdown",
   "metadata": {},
   "source": [
    "## Aufgabe 2a: Lineare Kleinste-Quadrate, Regularisierung, Iterative Lösung"
   ]
  },
  {
   "cell_type": "code",
   "execution_count": 6,
   "metadata": {},
   "outputs": [],
   "source": [
    "import numpy as np\n",
    "np.set_printoptions(precision=4, suppress=True)\n",
    "\n",
    "x1 = np.array([-1, 2, 5, 6, 7, -2])\n",
    "x2 = np.array([4, 9, 5, -2, 1, -1])\n",
    "y = np.array([-19, 73, 149, 160, 191, -54])"
   ]
  },
  {
   "cell_type": "markdown",
   "metadata": {},
   "source": [
    "### Kleinste-Quadrate"
   ]
  },
  {
   "cell_type": "code",
   "execution_count": 3,
   "metadata": {},
   "outputs": [
    {
     "name": "stdout",
     "output_type": "stream",
     "text": [
      "[[ 1. -1.  4.]\n",
      " [ 1.  2.  9.]\n",
      " [ 1.  5.  5.]\n",
      " [ 1.  6. -2.]\n",
      " [ 1.  7.  1.]\n",
      " [ 1. -2. -1.]]\n"
     ]
    }
   ],
   "source": [
    "n = x1.shape[0]\n",
    "\n",
    "A = np.vstack([np.ones(n), x1, x2]).T\n",
    "print(A)"
   ]
  },
  {
   "cell_type": "code",
   "execution_count": 7,
   "metadata": {},
   "outputs": [
    {
     "name": "stdout",
     "output_type": "stream",
     "text": [
      "[ 1.3347 27.0629  1.9952]\n"
     ]
    }
   ],
   "source": [
    "W = np.linalg.lstsq(A, y, rcond=None)[0]\n",
    "print(W)"
   ]
  },
  {
   "cell_type": "markdown",
   "metadata": {},
   "source": [
    "### Tikhonov"
   ]
  },
  {
   "cell_type": "code",
   "execution_count": 10,
   "metadata": {},
   "outputs": [
    {
     "name": "stdout",
     "output_type": "stream",
     "text": [
      "[[ 1.     -1.      4.    ]\n",
      " [ 1.      2.      9.    ]\n",
      " [ 1.      5.      5.    ]\n",
      " [ 1.      6.     -2.    ]\n",
      " [ 1.      7.      1.    ]\n",
      " [ 1.     -2.     -1.    ]\n",
      " [ 0.3742  0.      0.    ]\n",
      " [ 0.      0.3742  0.    ]\n",
      " [ 0.      0.      0.3742]]\n",
      "[-19.  73. 149. 160. 191. -54.   0.   0.   0.]\n"
     ]
    }
   ],
   "source": [
    "mu = 0.14\n",
    "m = 3       # 3 Gewichte\n",
    "\n",
    "y_snake = np.concatenate((y, np.zeros(m)))\n",
    "X_snake = np.vstack([A, np.sqrt(mu) * np.eye(m)])\n",
    "\n",
    "print(X_snake)\n",
    "print(y_snake)"
   ]
  },
  {
   "cell_type": "code",
   "execution_count": 11,
   "metadata": {},
   "outputs": [
    {
     "name": "stdout",
     "output_type": "stream",
     "text": [
      "W~0 = 1.4357, W~1 = 27.0173, W~2 = 1.9932\n"
     ]
    }
   ],
   "source": [
    "W_snake = np.linalg.lstsq(X_snake, y_snake, rcond=None)[0]\n",
    "print(f'W~0 = {W_snake[0]:.4f}, W~1 = {W_snake[1]:.4f}, W~2 = {W_snake[2]:.4f}')"
   ]
  },
  {
   "cell_type": "markdown",
   "metadata": {},
   "source": [
    "### Gradientenabstieg"
   ]
  },
  {
   "cell_type": "code",
   "execution_count": 12,
   "metadata": {},
   "outputs": [],
   "source": [
    "def gd_landweber(X, y, w_0, alpha, max_iter):\n",
    "    w_k = w_0\n",
    "    print(f'0: w_k = {w_k}')\n",
    "    for k in range(1, max_iter + 1):\n",
    "        w_k = w_k - alpha * X.T @ (X @ w_k - y)\n",
    "        print(f'{k}: w_k = {w_k}')\n",
    "    return w_k"
   ]
  },
  {
   "cell_type": "code",
   "execution_count": 13,
   "metadata": {},
   "outputs": [
    {
     "name": "stdout",
     "output_type": "stream",
     "text": [
      "0: w_k = [1 0 0]\n",
      "1: w_k = [1.494 3.298 1.235]\n",
      "2: w_k = [1.9092 6.1507 2.1853]\n",
      "3: w_k = [2.2582 8.6226 2.9046]\n",
      "4: w_k = [ 2.5516 10.7686  3.4373]\n",
      "5: w_k = [ 2.7982 12.635   3.8198]\n"
     ]
    }
   ],
   "source": [
    "w_0 = np.array([1, 0, 0]).T\n",
    "alpha = 0.001\n",
    "max_iter = 5\n",
    "\n",
    "W_landweber = gd_landweber(A, y, w_0, alpha, 5)"
   ]
  }
 ],
 "metadata": {
  "kernelspec": {
   "display_name": ".venv",
   "language": "python",
   "name": "python3"
  },
  "language_info": {
   "codemirror_mode": {
    "name": "ipython",
    "version": 3
   },
   "file_extension": ".py",
   "mimetype": "text/x-python",
   "name": "python",
   "nbconvert_exporter": "python",
   "pygments_lexer": "ipython3",
   "version": "3.12.4"
  }
 },
 "nbformat": 4,
 "nbformat_minor": 2
}
