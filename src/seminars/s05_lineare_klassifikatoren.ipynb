{
 "cells": [
  {
   "cell_type": "markdown",
   "metadata": {},
   "source": [
    "# Linear Classifier\n",
    "\n",
    "Gegeben sind folgende Daten\n",
    "\n",
    "<table><thead>\n",
    "  <tr>\n",
    "    <th></th>\n",
    "    <th colspan=\"6\">Training</th>\n",
    "    <th colspan=\"2\">Test</th>\n",
    "  </tr></thead>\n",
    "<tbody>\n",
    "  <tr>\n",
    "    <td>x1</td>\n",
    "    <td>1</td>\n",
    "    <td>-1</td>\n",
    "    <td>0</td>\n",
    "    <td>-1</td>\n",
    "    <td>1</td>\n",
    "    <td>0</td>\n",
    "    <td>-1</td>\n",
    "    <td>0.5</td>\n",
    "  </tr>\n",
    "  <tr>\n",
    "    <td>x2</td>\n",
    "    <td>-1</td>\n",
    "    <td>0</td>\n",
    "    <td>0</td>\n",
    "    <td>2</td>\n",
    "    <td>0</td>\n",
    "    <td>1</td>\n",
    "    <td>1</td>\n",
    "    <td>-0.5</td>\n",
    "  </tr>\n",
    "  <tr>\n",
    "    <td>y</td>\n",
    "    <td>1</td>\n",
    "    <td>1</td>\n",
    "    <td>1</td>\n",
    "    <td>-1</td>\n",
    "    <td>-1</td>\n",
    "    <td>-1</td>\n",
    "    <td>1</td>\n",
    "    <td>-1</td>\n",
    "  </tr>\n",
    "</tbody>\n",
    "</table>\n",
    "\n",
    "<br>\n",
    "<img src=\"assets/s05_aufg1_plot.png\" alt=\"Plot\" style=\"width: 400px\"/>"
   ]
  },
  {
   "cell_type": "code",
   "execution_count": 1,
   "metadata": {},
   "outputs": [],
   "source": [
    "import numpy as np\n",
    "np.set_printoptions(precision=4)\n",
    "\n",
    "x1_training = np.array([1, -1, 0, -1, 1, 0])\n",
    "x2_training = np.array([-1, 0, 0, 2, 0, 1])\n",
    "y_training = np.array([1, 1, 1, -1, -1, -1])\n",
    "\n",
    "x1_test = np.array([-1, 0.5])\n",
    "x2_test = np.array([1, -0.5])\n",
    "y_test = np.array([1, -1])"
   ]
  },
  {
   "cell_type": "markdown",
   "metadata": {},
   "source": [
    "## Kleinste Quadrate Methode\n",
    "\n",
    "> Berechnen Sie auf den Trainingsdaten mit der kleinste-Quadrate-Methode ein lineares Modell der Gestalt $p(x_1,x_2) = w_0 + w_1x_1 + w_2x_2$."
   ]
  },
  {
   "cell_type": "code",
   "execution_count": 2,
   "metadata": {},
   "outputs": [
    {
     "name": "stdout",
     "output_type": "stream",
     "text": [
      "[[ 1.  1. -1.]\n",
      " [ 1. -1.  0.]\n",
      " [ 1.  0.  0.]\n",
      " [ 1. -1.  2.]\n",
      " [ 1.  1.  0.]\n",
      " [ 1.  0.  1.]]\n"
     ]
    }
   ],
   "source": [
    "n = len(x1_training)\n",
    "X = np.stack([np.ones(n), x1_training, x2_training]).T\n",
    "print(X)"
   ]
  },
  {
   "cell_type": "markdown",
   "metadata": {},
   "source": [
    "Minimierung von $\\Vert \\vec{r} \\Vert_2^2 = \\Vert \\vec{y} - \\mathbf{X} \\vec{w} \\Vert \\to \\min{}$"
   ]
  },
  {
   "cell_type": "code",
   "execution_count": 3,
   "metadata": {},
   "outputs": [
    {
     "name": "stdout",
     "output_type": "stream",
     "text": [
      "[ 0.4324 -0.973  -1.2973]\n"
     ]
    }
   ],
   "source": [
    "W = np.linalg.lstsq(X, y_training, rcond=None)[0]\n",
    "print(W)"
   ]
  },
  {
   "cell_type": "code",
   "execution_count": 15,
   "metadata": {},
   "outputs": [],
   "source": [
    "def p(x):\n",
    "    return W[0] + W[1] * x[0] + W[2] * x[1]"
   ]
  },
  {
   "cell_type": "code",
   "execution_count": 16,
   "metadata": {},
   "outputs": [
    {
     "name": "stdout",
     "output_type": "stream",
     "text": [
      "p([-1.  1.]) = 0.10810810810810811\t(1)\n",
      "p([ 0.5 -0.5]) = 0.594594594594595\t(-1)\n"
     ]
    }
   ],
   "source": [
    "X_test = np.stack([x1_test, x2_test]).T\n",
    "\n",
    "for i in range(len(y_test)):\n",
    "    prediction = p(X_test[i])\n",
    "    print(f'p({X_test[i]}) = {prediction}\\t({y_test[i]})')"
   ]
  },
  {
   "cell_type": "markdown",
   "metadata": {},
   "source": [
    "## Linearer Klassifikator\n",
    "\n",
    "> Konstruieren Sie einen linearen Klassifikator aus dem Ergebnis von oben.\n",
    "> \n",
    "> - Geben Sie die Entscheidungsgrenze an.\n",
    "> - Welcher Anteil der Trainings- und Testdaten wird richtig klassifiziert?\n",
    "> - Wie wird der neue Datenpunkt $\\left(x_{1;neu}; x_{2;neu}\\right) = \\left(-0.5 ; 1.5\\right)$ eingeteilt?"
   ]
  },
  {
   "cell_type": "markdown",
   "metadata": {},
   "source": [
    "### Entscheidungsgrenzen\n",
    "\n",
    "> Geben Sie die Entscheidungsgrenze an.\n",
    "\n",
    "$$\n",
    "\\begin{aligned}\n",
    "    0 &= p(\\vec{x}) = w_0 + w_1x_1 + w_2x_2 \\Rightarrow B \\\\\n",
    "    \\Rightarrow x_2 &= \\frac{0.4324 - 0.973 x_1}{1.297} \\\\\n",
    "    \\Rightarrow x_2 &= -0.75 x_1 + \\frac13\n",
    "\\end{aligned}\n",
    "$$"
   ]
  },
  {
   "cell_type": "markdown",
   "metadata": {},
   "source": [
    "### Klassifikation\n",
    "\n",
    "> Welcher Anteil der Trainings- und Testdaten wird richtig klassifiziert?"
   ]
  },
  {
   "cell_type": "code",
   "execution_count": null,
   "metadata": {},
   "outputs": [],
   "source": [
    "def y_hat(x):\n",
    "    return np.sign(p(x))"
   ]
  },
  {
   "cell_type": "code",
   "execution_count": 40,
   "metadata": {},
   "outputs": [
    {
     "name": "stdout",
     "output_type": "stream",
     "text": [
      "0: correct\n",
      "1: correct\n",
      "2: correct\n",
      "3: correct\n",
      "4: correct\n",
      "5: correct\n"
     ]
    }
   ],
   "source": [
    "X_training = np.stack([x1_training, x2_training]).T\n",
    "\n",
    "for i in range(len(y_training)):\n",
    "    prediction = y_hat(X_training[i])\n",
    "    real = y_training[i]\n",
    "    print(f'{i}: ', end='')\n",
    "    if prediction == real:\n",
    "        print('correct')\n",
    "    else:\n",
    "        print('false')"
   ]
  },
  {
   "cell_type": "code",
   "execution_count": 42,
   "metadata": {},
   "outputs": [
    {
     "name": "stdout",
     "output_type": "stream",
     "text": [
      "0: correct\n",
      "1: false\n"
     ]
    }
   ],
   "source": [
    "X_test = np.stack([x1_test, x2_test]).T\n",
    "\n",
    "for i in range(len(y_test)):\n",
    "    prediction = y_hat(X_test[i])\n",
    "    real = y_test[i]\n",
    "    print(f'{i}: ', end='')\n",
    "    if prediction == real:\n",
    "        print('correct')\n",
    "    else:\n",
    "        print('false')"
   ]
  },
  {
   "cell_type": "markdown",
   "metadata": {},
   "source": [
    "- Trainingsdaten werden alle korrekt eingeteilt\n",
    "- Testdaten zur Hälfte\n",
    "- Betrachtung des Plots $\\to$ Test- *und* Traningsdaten sind nicht linear separierbar"
   ]
  },
  {
   "cell_type": "markdown",
   "metadata": {},
   "source": [
    "### Neuer Datenpunkt\n",
    "\n",
    "> Wie wird der neue Datenpunkt $\\left(x_{1;neu}; x_{2;neu}\\right) = \\left(-0.5 ; 1.5\\right)$ eingeteilt?"
   ]
  },
  {
   "cell_type": "code",
   "execution_count": 34,
   "metadata": {},
   "outputs": [
    {
     "data": {
      "text/plain": [
       "-1.0"
      ]
     },
     "execution_count": 34,
     "metadata": {},
     "output_type": "execute_result"
    }
   ],
   "source": [
    "x_neu = [-0.5, 1.5]\n",
    "np.sign(p(x_neu))"
   ]
  }
 ],
 "metadata": {
  "kernelspec": {
   "display_name": ".venv",
   "language": "python",
   "name": "python3"
  },
  "language_info": {
   "codemirror_mode": {
    "name": "ipython",
    "version": 3
   },
   "file_extension": ".py",
   "mimetype": "text/x-python",
   "name": "python",
   "nbconvert_exporter": "python",
   "pygments_lexer": "ipython3",
   "version": "3.12.4"
  }
 },
 "nbformat": 4,
 "nbformat_minor": 2
}
