{
 "cells": [
  {
   "cell_type": "markdown",
   "metadata": {},
   "source": [
    "# Klassifikation\n",
    "\n",
    "In einer Umfrage wurde $n=?$ Studierende gefragt:\n",
    "\n",
    "- $y$: Gefällt Ihnen die originale Star-Wars Trilogie (ja/nein)\n",
    "- $x_1$: Wie sehr interessieren Sie sich für Science-Fiction im Allgemeinen (gar nicht = 0, 1, 2, 3, 4, 5 =sehr)\n",
    "- $x_2$: Interessiert Sie der Bechdel-Test (ja/nein/egal)\n",
    "\n",
    "(Ein Film besteht den Bechdel-Test, wenn es mindestens 2 weibliche Rollen gibt, die miteinander über etwas anderes als Männer reden.)\n",
    "\n",
    "Die Daten der Umfragen liegen netterweise bereits als npz-Dateien im OPAL.\n",
    "\n",
    "## Aufgabe 1: Visualiserung\n",
    "\n",
    "- Visualisieren\n",
    "- Wie viele Studierende haben teilgenommen?\n",
    "- Sind die Daten eindeutig separierbar?"
   ]
  },
  {
   "cell_type": "code",
   "execution_count": 1,
   "metadata": {},
   "outputs": [
    {
     "name": "stdout",
     "output_type": "stream",
     "text": [
      "NpzFile 'assets/s07_data.npz' with keys: x, y\n"
     ]
    }
   ],
   "source": [
    "import numpy as np\n",
    "np.set_printoptions(precision=4)\n",
    "import matplotlib.pyplot as plt\n",
    "\n",
    "data = np.load('assets/s07_data.npz')\n",
    "print(data)"
   ]
  },
  {
   "cell_type": "code",
   "execution_count": 2,
   "metadata": {},
   "outputs": [],
   "source": [
    "x = data['x']\n",
    "y = data['y']"
   ]
  },
  {
   "cell_type": "code",
   "execution_count": 3,
   "metadata": {},
   "outputs": [
    {
     "name": "stdout",
     "output_type": "stream",
     "text": [
      "(35, 2)\n",
      "Es haben 35 Studierende teilgenommen\n"
     ]
    }
   ],
   "source": [
    "print(x.shape)\n",
    "n = x.shape[0]\n",
    "print(f'Es haben {n} Studierende teilgenommen')"
   ]
  },
  {
   "cell_type": "code",
   "execution_count": 4,
   "metadata": {},
   "outputs": [
    {
     "data": {
      "image/png": "[encoded data removed]",
      "text/plain": [
       "<Figure size 640x480 with 1 Axes>"
      ]
     },
     "metadata": {},
     "output_type": "display_data"
    }
   ],
   "source": [
    "plt.scatter(x[y == 1, 0], x[y == 1, 1], marker='+', label='ja')\n",
    "plt.scatter(x[y == 0, 0], x[y == 0, 1], marker='x', label='nein')\n",
    "plt.legend()\n",
    "plt.show()"
   ]
  },
  {
   "cell_type": "markdown",
   "metadata": {},
   "source": [
    "weniger als 35 Punkte sichtbar<br>\n",
    "$\\Rightarrow$ manche liegen übereinander<br>\n",
    "$\\Rightarrow$ einige Position haben beide Labels"
   ]
  },
  {
   "cell_type": "markdown",
   "metadata": {},
   "source": [
    "## Aufgabe 2: Klassifikation\n",
    "\n",
    "Wir wollen nun Klassifikationsmodelle implementieren\n",
    "\n",
    "$$y\\approx g(\\mathbf{x})=g(p(x_1,x_2))$$\n",
    "$$p(x_1,x_2)=b+w_1x_1+w_2x_2$$\n",
    "\n",
    "Auswertung mittels Konfusionsmatrix."
   ]
  },
  {
   "cell_type": "code",
   "execution_count": 5,
   "metadata": {},
   "outputs": [],
   "source": [
    "def confusion_mat(true, pred):\n",
    "    TP = (true==pred)[true==1].sum()\n",
    "    TN = (true==pred)[true==0].sum()\n",
    "    FP = (true!=pred)[true==0].sum()\n",
    "    FN = (true!=pred)[true==1].sum()\n",
    "    \n",
    "    cm = np.array([[TP, FN], [FP, TN]])\n",
    "    \n",
    "    acc = (TP + TN) / len(true)\n",
    "    prec = (TP) / (TP + FP)\n",
    "    rec = (TP) / (TP + FN)\n",
    "    F1 = 2 * prec * rec / (prec + rec)\n",
    "    metrics = {'acc': acc, 'prec': prec, 'rec': rec, 'F1': F1}\n",
    "    \n",
    "    return cm, metrics"
   ]
  },
  {
   "cell_type": "code",
   "execution_count": 6,
   "metadata": {},
   "outputs": [
    {
     "name": "stdout",
     "output_type": "stream",
     "text": [
      "W = [0.2116 0.1548 0.1645]\n"
     ]
    }
   ],
   "source": [
    "X = np.hstack([np.ones((n,1)), x])\n",
    "\n",
    "W = np.linalg.lstsq(X, y, rcond=None)[0]\n",
    "print('W =', W)"
   ]
  },
  {
   "cell_type": "code",
   "execution_count": 7,
   "metadata": {},
   "outputs": [],
   "source": [
    "def predict(X, w):\n",
    "    pred = X @ w\n",
    "    y_hat = np.zeros((X.shape[0],))\n",
    "    y_hat[pred >= 0.5] = 1\n",
    "    return y_hat"
   ]
  },
  {
   "cell_type": "code",
   "execution_count": 8,
   "metadata": {},
   "outputs": [
    {
     "name": "stdout",
     "output_type": "stream",
     "text": [
      "[[20  2]\n",
      " [ 6  7]]\n",
      "{'acc': 0.7714285714285715, 'prec': 0.7692307692307693, 'rec': 0.9090909090909091, 'F1': 0.8333333333333333}\n"
     ]
    }
   ],
   "source": [
    "y_pred = predict(X, W)\n",
    "cm, metrics = confusion_mat(y, y_pred)\n",
    "\n",
    "print(cm)\n",
    "print(metrics)"
   ]
  },
  {
   "cell_type": "markdown",
   "metadata": {},
   "source": [
    "### Logistische Regression\n",
    "\n",
    "logistische Regression mit Sigmoid $\\phi(z)$, durch Gradienten Verfahren trainiert\n",
    "\n",
    "$$g=\\begin{cases}1:&\\phi(p(\\mathbf{x}))\\geq 0.5\\\\0:&\\phi(p(\\mathbf{x}))<0.5\\end{cases}$$"
   ]
  },
  {
   "cell_type": "code",
   "execution_count": 9,
   "metadata": {},
   "outputs": [],
   "source": [
    "def sigmoid(z):\n",
    "    return 1 / (1 + np.exp(-z))\n",
    "\n",
    "def predict(X, w):\n",
    "    z = X @ w\n",
    "    z = sigmoid(z)\n",
    "    return np.round(z, 0)\n",
    "\n",
    "def gradient(w, X, y):\n",
    "    z = X @ w\n",
    "    p = sigmoid(z)\n",
    "    # mit Mittelung durch n\n",
    "    return X.T @ (p - y) / X.shape[0]\n",
    "\n",
    "def gd(w0, X, y, grad, alpha, max_it):\n",
    "    wk = w0\n",
    "    grads = np.zeros(max_it)\n",
    "    for k in range(max_it):\n",
    "        g = grad(wk, X, y)\n",
    "        grads[k] = np.linalg.norm(g)\n",
    "        wk = wk - alpha * g\n",
    "    return wk, grads"
   ]
  },
  {
   "cell_type": "code",
   "execution_count": 10,
   "metadata": {},
   "outputs": [
    {
     "name": "stdout",
     "output_type": "stream",
     "text": [
      "[[20  2]\n",
      " [ 6  7]]\n",
      "{'acc': 0.7714285714285715, 'prec': 0.7692307692307693, 'rec': 0.9090909090909091, 'F1': 0.8333333333333333}\n"
     ]
    }
   ],
   "source": [
    "w0 = np.zeros(3)\n",
    "\n",
    "w, grads = gd(w0, X, y,\n",
    "              grad=gradient,\n",
    "              alpha=1e-1,\n",
    "              max_it=3_000)\n",
    "\n",
    "pred_log = predict(X, w)\n",
    "\n",
    "cm_log, metrics_log = confusion_mat(y, pred_log)\n",
    "print(cm_log)\n",
    "print(metrics_log)"
   ]
  },
  {
   "cell_type": "code",
   "execution_count": 11,
   "metadata": {},
   "outputs": [
    {
     "data": {
      "image/png": "[encoded data removed]",
      "text/plain": [
       "<Figure size 640x480 with 1 Axes>"
      ]
     },
     "metadata": {},
     "output_type": "display_data"
    }
   ],
   "source": [
    "plt.semilogy(grads, 'b--', label='||g||')\n",
    "plt.title('Verlauf von ||g||')\n",
    "plt.legend()\n",
    "plt.show()"
   ]
  },
  {
   "cell_type": "markdown",
   "metadata": {},
   "source": [
    "### Support Vektor Maschine"
   ]
  },
  {
   "cell_type": "code",
   "execution_count": 12,
   "metadata": {},
   "outputs": [],
   "source": [
    "from sklearn.svm import SVC\n",
    "\n",
    "model = SVC(kernel='rbf', C=50.0)\n",
    "model.fit(X, y)\n",
    "\n",
    "pred_svm = model.predict(X)"
   ]
  },
  {
   "cell_type": "code",
   "execution_count": 13,
   "metadata": {},
   "outputs": [
    {
     "name": "stdout",
     "output_type": "stream",
     "text": [
      "[[19  3]\n",
      " [ 1 12]]\n",
      "{'acc': 0.8857142857142857, 'prec': 0.95, 'rec': 0.8636363636363636, 'F1': 0.9047619047619048}\n"
     ]
    }
   ],
   "source": [
    "cm_svc, metrics_svc = confusion_mat(y, pred_svm)\n",
    "print(cm_svc)\n",
    "print(metrics_svc)"
   ]
  }
 ],
 "metadata": {
  "kernelspec": {
   "display_name": ".venv",
   "language": "python",
   "name": "python3"
  },
  "language_info": {
   "codemirror_mode": {
    "name": "ipython",
    "version": 3
   },
   "file_extension": ".py",
   "mimetype": "text/x-python",
   "name": "python",
   "nbconvert_exporter": "python",
   "pygments_lexer": "ipython3",
   "version": "3.12.4"
  }
 },
 "nbformat": 4,
 "nbformat_minor": 2
}
