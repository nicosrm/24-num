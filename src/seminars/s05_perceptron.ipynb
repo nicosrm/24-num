{
 "cells": [
  {
   "cell_type": "markdown",
   "metadata": {},
   "source": [
    "# Perceptron\n",
    "\n",
    "Gegeben sind die Tabellen für verschiedene logische Verknüpfungen zweier Argumente\n",
    "\n",
    "<table><thead>\n",
    "  <tr>\n",
    "    <th colspan=\"5\">OR</th>\n",
    "  </tr></thead>\n",
    "<tbody>\n",
    "  <tr>\n",
    "    <td>x1</td>\n",
    "    <td>1</td>\n",
    "    <td>1</td>\n",
    "    <td>0</td>\n",
    "    <td>0</td>\n",
    "  </tr>\n",
    "  <tr>\n",
    "    <td>x2</td>\n",
    "    <td>1</td>\n",
    "    <td>0</td>\n",
    "    <td>0</td>\n",
    "    <td>1<br></td>\n",
    "  </tr>\n",
    "  <tr>\n",
    "    <td>y</td>\n",
    "    <td>1</td>\n",
    "    <td>1</td>\n",
    "    <td>0</td>\n",
    "    <td>1</td>\n",
    "  </tr>\n",
    "</tbody>\n",
    "</table>\n",
    "\n",
    "<br>\n",
    "\n",
    "<table><thead>\n",
    "  <tr>\n",
    "    <th colspan=\"5\">AND</th>\n",
    "  </tr></thead>\n",
    "<tbody>\n",
    "  <tr>\n",
    "    <td>x1</td>\n",
    "    <td>1</td>\n",
    "    <td>1</td>\n",
    "    <td>0</td>\n",
    "    <td>0</td>\n",
    "  </tr>\n",
    "  <tr>\n",
    "    <td>x2</td>\n",
    "    <td>1</td>\n",
    "    <td>0</td>\n",
    "    <td>0</td>\n",
    "    <td>1<br></td>\n",
    "  </tr>\n",
    "  <tr>\n",
    "    <td>y</td>\n",
    "    <td>1</td>\n",
    "    <td>0</td>\n",
    "    <td>0</td>\n",
    "    <td>0<br></td>\n",
    "  </tr>\n",
    "</tbody>\n",
    "</table>\n",
    "\n",
    "<br>\n",
    "\n",
    "<table><thead>\n",
    "  <tr>\n",
    "    <th colspan=\"5\">XNOR</th>\n",
    "  </tr></thead>\n",
    "<tbody>\n",
    "  <tr>\n",
    "    <td>x1</td>\n",
    "    <td>1</td>\n",
    "    <td>1</td>\n",
    "    <td>0</td>\n",
    "    <td>0</td>\n",
    "  </tr>\n",
    "  <tr>\n",
    "    <td>x2</td>\n",
    "    <td>1</td>\n",
    "    <td>0</td>\n",
    "    <td>0</td>\n",
    "    <td>1<br></td>\n",
    "  </tr>\n",
    "  <tr>\n",
    "    <td>y</td>\n",
    "    <td>1</td>\n",
    "    <td>0</td>\n",
    "    <td>1<br></td>\n",
    "    <td>0<br></td>\n",
    "  </tr>\n",
    "</tbody>\n",
    "</table>"
   ]
  },
  {
   "cell_type": "markdown",
   "metadata": {},
   "source": [
    "## Lineare Separierbarkeit\n",
    "\n",
    "> In welchen Fällen sind die Daten linear separierbar, d.h. wann kann eine Abbildung $(x_1,x_2) \\mapsto y$ sinnvoll mittels linearer Klassifikation dargestellt werden?\n",
    "\n"
   ]
  },
  {
   "cell_type": "markdown",
   "metadata": {},
   "source": [
    "- jeweils aufmalen\n",
    "- OR: linear separierbar\n",
    "- AND: linear separierbar\n",
    "- XNOR: *nicht* linear separierbar"
   ]
  },
  {
   "cell_type": "markdown",
   "metadata": {},
   "source": [
    "## Linearer Klassifikator für AND-Gate mittels Kleinste-Quadrate-Methode\n",
    "\n",
    "> Berechnen Sie mit der kleinste-Quadrate-Methode für das AND-Gate den linearen Klassifikator."
   ]
  },
  {
   "cell_type": "code",
   "execution_count": 1,
   "metadata": {},
   "outputs": [],
   "source": [
    "import numpy as np\n",
    "\n",
    "x1 = np.array([1, 1, 0, 0])\n",
    "x2 = np.array([1, 0, 0, 1])\n",
    "y = np.array([1, 0, 0, 0])"
   ]
  },
  {
   "cell_type": "code",
   "execution_count": 3,
   "metadata": {},
   "outputs": [
    {
     "data": {
      "text/plain": [
       "array([[1., 1., 1.],\n",
       "       [1., 1., 0.],\n",
       "       [1., 0., 0.],\n",
       "       [1., 0., 1.]])"
      ]
     },
     "execution_count": 3,
     "metadata": {},
     "output_type": "execute_result"
    }
   ],
   "source": [
    "n = len(x1)\n",
    "\n",
    "# w0 + w1 * x1 + w2 * x2\n",
    "X = np.stack([np.ones(n), x1, x2]).T\n",
    "X"
   ]
  },
  {
   "cell_type": "code",
   "execution_count": 7,
   "metadata": {},
   "outputs": [
    {
     "name": "stdout",
     "output_type": "stream",
     "text": [
      "[-0.25  0.5   0.5 ]\n",
      "sgn(-0.25 + 0.50 * x1 + 0.50 * x2)\n"
     ]
    }
   ],
   "source": [
    "W = np.linalg.lstsq(X, y, rcond=None)[0]\n",
    "print(W)\n",
    "print(f'sgn({W[0]:.2f} + {W[1]:.2f} * x1 + {W[2]:.2f} * x2)')"
   ]
  }
 ],
 "metadata": {
  "kernelspec": {
   "display_name": ".venv",
   "language": "python",
   "name": "python3"
  },
  "language_info": {
   "codemirror_mode": {
    "name": "ipython",
    "version": 3
   },
   "file_extension": ".py",
   "mimetype": "text/x-python",
   "name": "python",
   "nbconvert_exporter": "python",
   "pygments_lexer": "ipython3",
   "version": "3.12.3"
  }
 },
 "nbformat": 4,
 "nbformat_minor": 2
}
