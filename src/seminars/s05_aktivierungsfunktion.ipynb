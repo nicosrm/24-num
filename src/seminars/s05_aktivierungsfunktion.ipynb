{
 "cells": [
  {
   "cell_type": "markdown",
   "metadata": {},
   "source": [
    "# Aktivierungsfunktion\n",
    "\n",
    "Zeigen Sie, dass für die Sigmoid-Aktivierungsfunktion $\\phi(z) = \\frac{1}{1+ \\operatorname{e}^{-z}}$ gilt:\n",
    "\n",
    "$$\\phi'(z) = \\phi(z) (1 - \\phi(z))$$\n",
    "\n",
    "Was gilt stattdessen für $\\phi(z) = \\tanh z$?"
   ]
  },
  {
   "cell_type": "markdown",
   "metadata": {},
   "source": [
    "$$\n",
    "\\begin{aligned}\n",
    "\\phi(z) &= \\frac{1}{1+ \\operatorname{e}^{-z}} = (1+ \\operatorname{e}^{-z})^{-1} \\\\\n",
    "\\Rightarrow \\phi'(z) &= (1+ \\operatorname{e}^{-z})^{-2} \\operatorname{e}^{-z} = \\phi(z) (1 - \\phi(z))\n",
    "\\end{aligned}\n",
    "$$"
   ]
  },
  {
   "cell_type": "markdown",
   "metadata": {},
   "source": [
    "$$\n",
    "\\begin{aligned}\n",
    "\\phi' &= \\frac{1}{\\cosh^2(z)} \\\\\n",
    "\\phi' &= 1 - \\tanh^2(z) \\\\\n",
    "\\phi' &= 1 - \\phi^2(z) \\\\\n",
    "\\phi' &= (1 - \\phi)(1 + \\phi) \\\\\n",
    "\\end{aligned}\n",
    "$$"
   ]
  }
 ],
 "metadata": {
  "language_info": {
   "name": "python"
  }
 },
 "nbformat": 4,
 "nbformat_minor": 2
}
