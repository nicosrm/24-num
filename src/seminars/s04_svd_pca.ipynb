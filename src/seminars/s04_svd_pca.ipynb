{
 "cells": [
  {
   "cell_type": "markdown",
   "metadata": {},
   "source": [
    "# Aufgabe 1: SVD & PCA\n",
    "\n",
    "> Gegeben ist eine Datenmatrix $\\mathbf{X}\\in\\mathbb{R}^{1000\\times30}$ mit\n",
    "> Singulärwerten\n",
    "> \n",
    "> $$\\sigma_j = \\begin{cases} 2^{8-j} &,~j=1,\\ldots,20 \\\\ 0 &,~j>20\\end{cases}$$"
   ]
  },
  {
   "cell_type": "code",
   "execution_count": 1,
   "metadata": {},
   "outputs": [],
   "source": [
    "import numpy as np\n",
    "np.set_printoptions(precision=4, suppress=True)\n",
    "\n",
    "n = 1_000\n",
    "m = 30\n",
    "\n",
    "def sigma(j):\n",
    "    if j > 20:\n",
    "        return 0\n",
    "    return 2 ** (8 - j)"
   ]
  },
  {
   "cell_type": "code",
   "execution_count": 2,
   "metadata": {},
   "outputs": [
    {
     "name": "stdout",
     "output_type": "stream",
     "text": [
      "[128.      64.      32.      16.       8.       4.       2.       1.\n",
      "   0.5      0.25     0.125    0.0625   0.0312   0.0156   0.0078   0.0039\n",
      "   0.002    0.001    0.0005   0.0002   0.       0.       0.       0.\n",
      "   0.       0.       0.       0.       0.       0.    ]\n"
     ]
    }
   ],
   "source": [
    "sigmas = []\n",
    "for j in range(1, m + 1):\n",
    "    sigmas.append(sigma(j))\n",
    "sigmas = np.array(sigmas)\n",
    "print(sigmas)"
   ]
  },
  {
   "cell_type": "markdown",
   "metadata": {},
   "source": [
    "## 2- und Frobenius-Norm\n",
    "\n",
    "> Berechnen Sie $||\\mathbf{X}||_2, ||\\mathbf{X}||_F$\n",
    "\n",
    "$$\n",
    "\\sigma_1 \\ge \\sigma_2 \\ge \\ldots \\ge \\sigma_m \\ge 0 \\newline\n",
    "\\Rightarrow ||\\mathbf{X}||_2 = \\max \\sigma_j = \\sigma_1\n",
    "$$\n",
    "\n",
    "$$||\\mathbf{X}||_F = \\sqrt{ \\sum_{j=1}^\\ell \\sigma_j }$$"
   ]
  },
  {
   "cell_type": "code",
   "execution_count": 3,
   "metadata": {},
   "outputs": [
    {
     "name": "stdout",
     "output_type": "stream",
     "text": [
      "X_2 = 128\n"
     ]
    }
   ],
   "source": [
    "X_2 = sigma(1)\n",
    "# X_2 = np.max(sigmas)\n",
    "print(f'X_2 = {X_2}')"
   ]
  },
  {
   "cell_type": "code",
   "execution_count": 4,
   "metadata": {},
   "outputs": [
    {
     "name": "stdout",
     "output_type": "stream",
     "text": [
      "X_F = sqrt(21845.3333) = 147.8017\n"
     ]
    }
   ],
   "source": [
    "X_F = np.sum(sigmas ** 2)\n",
    "print(f'X_F = sqrt({X_F:.4f})', end=' ')\n",
    "X_F = np.sqrt(X_F)\n",
    "print(f'= {X_F:.4f}')"
   ]
  },
  {
   "cell_type": "markdown",
   "metadata": {},
   "source": [
    "## Effektive Konditionszahl $\\kappa_2(\\mathbf{X})$\n",
    "\n",
    "> Berechnen Sie die effektive Konditionszahl\n",
    "> $\\kappa_2(\\mathbf{X}) = \\frac{\\max \\sigma_j}{\\min \\sigma_j}$ mit\n",
    "> $\\sigma_j\\ne0$"
   ]
  },
  {
   "cell_type": "code",
   "execution_count": 5,
   "metadata": {},
   "outputs": [
    {
     "name": "stdout",
     "output_type": "stream",
     "text": [
      "cond2(X) = 524288.0\n"
     ]
    }
   ],
   "source": [
    "sigmas_non_zero = sigmas[np.nonzero(sigmas)]\n",
    "\n",
    "cond2_X = np.max(sigmas_non_zero) / np.min(sigmas_non_zero)\n",
    "print(f'cond2(X) = {cond2_X}')"
   ]
  },
  {
   "cell_type": "markdown",
   "metadata": {},
   "source": [
    "## Exakter Rang\n",
    "\n",
    "> Berechnen Sie den exakten Rang von $\\mathbf{X}$.\n",
    "\n",
    "$\\text{rang}(\\mathbf{X}) = |\\sigma_j \\ne 0|$"
   ]
  },
  {
   "cell_type": "code",
   "execution_count": 6,
   "metadata": {},
   "outputs": [
    {
     "name": "stdout",
     "output_type": "stream",
     "text": [
      "(20,) ==> 20\n"
     ]
    }
   ],
   "source": [
    "print(sigmas_non_zero.shape, '==>', sigmas_non_zero.shape[0])"
   ]
  },
  {
   "cell_type": "markdown",
   "metadata": {},
   "source": [
    "## Numerischer Rang\n",
    "\n",
    "> Berechnen Sie den numerischen Rang von $\\mathbf{X}$ in Singe Precision\n",
    "> (Maschinen-Genauigkeit $\\texttt{eps} = 1.19209 \\cdot 10^{-7}$).\n",
    "\n",
    "Numerischer Rang ($\\varepsilon$-Rang) von $\\mathbf{X}\\in\\mathbb{R}^{n\\times m}$\n",
    "mit Singulärwerten $\\left( \\sigma_j\\right)_{j=1}^m$ und Toleranz\n",
    "$0<\\varepsilon \\ll n:$\n",
    "\n",
    "$\\operatorname{rang}_\\varepsilon(\\mathbf{X}) = |\\sigma_j>\\varepsilon|$\n",
    "\n",
    "mit $\\varepsilon = \\max{(n,m)} \\cdot \\Vert \\mathbf{X} \\Vert_2 \\cdot \\texttt{eps}$"
   ]
  },
  {
   "cell_type": "code",
   "execution_count": 7,
   "metadata": {},
   "outputs": [
    {
     "name": "stdout",
     "output_type": "stream",
     "text": [
      "val = 0.0153\n",
      "rank_ε = 14\n"
     ]
    }
   ],
   "source": [
    "eps = 1.19209 * 10**(-7)\n",
    "val = X_2 * n * eps # sigma(1) * n * eps\n",
    "print(f'val = {val:.4f}')\n",
    "\n",
    "rank_eps = np.count_nonzero(sigmas > val)\n",
    "print(f'rank_ε = {rank_eps}')\n",
    "\n",
    "# import sympy\n",
    "# import math\n",
    "\n",
    "# j = sympy.Symbol('j')\n",
    "# j = sympy.solve(2 ** (8 - j) > val)\n",
    "# j = math.floor(j.rhs)\n",
    "# print(f'rank_ε = {j}')"
   ]
  },
  {
   "cell_type": "markdown",
   "metadata": {},
   "source": [
    "## Relativer Fehler in 2-Norm der Rang-5 Best-Approximation\n",
    "\n",
    "> Berechnen Sie den relativen Fehler in der 2-Matrixnorm\n",
    "> $(||\\mathbf{X} - \\mathbf{X}_r||_2 / ||\\mathbf{X}||_2)$ einer Rang-5\n",
    "> Best-Approximation, sowie die einhergehenden Speichereinsparungen in Single\n",
    "> Precision.\n",
    "\n",
    "$\\displaystyle\n",
    "\\text{relativer Fehler: } \\frac{||\\mathbf{X} - \\mathbf{X}_k||_2}{||\\mathbf{X}||_2}\n",
    "= \\frac{\\sigma_{k+1}}{\\sigma_1}\n",
    "$\n",
    "\n",
    "$\\text{Speicher}=\\#\\text{Zeilen} \\cdot \\# \\text{Spalten} \\cdot 32~\\text{Bit}$"
   ]
  },
  {
   "cell_type": "code",
   "execution_count": 8,
   "metadata": {},
   "outputs": [
    {
     "name": "stdout",
     "output_type": "stream",
     "text": [
      "0.03125\n"
     ]
    }
   ],
   "source": [
    "k = 5\n",
    "print(sigma(k + 1) / sigma(1))"
   ]
  },
  {
   "cell_type": "code",
   "execution_count": 9,
   "metadata": {},
   "outputs": [
    {
     "name": "stdout",
     "output_type": "stream",
     "text": [
      "82.8167%\n"
     ]
    }
   ],
   "source": [
    "speicher_original = n * m * 32\n",
    "speicher_rang_approx = k * (n + m + 1) * 32\n",
    "\n",
    "einsparung = (1 - speicher_rang_approx / speicher_original) * 100\n",
    "print(f'{einsparung:.4f}%')"
   ]
  },
  {
   "cell_type": "markdown",
   "metadata": {},
   "source": [
    "## Bestimmung Rang\n",
    "\n",
    "> Berechnen Sie den notwendigen Rang $r$ einer Best-Rang-$r$-Approximation,\n",
    "> damit der relative Fehler in der $2$-Matrixnorm kleiner als $10^{-1}$ ist.\n",
    "\n",
    "$$\n",
    "\\frac{|| \\mathbf{X} - \\mathbf{X}_r ||_2}{|| \\mathbf{X} ||_2}\n",
    "= \\frac{\\sigma_{r+1}}{\\sigma_m} < \\text{Tol}\n",
    "$$"
   ]
  },
  {
   "cell_type": "code",
   "execution_count": 10,
   "metadata": {},
   "outputs": [
    {
     "name": "stdout",
     "output_type": "stream",
     "text": [
      "i =  0:\t1.0000 ≥ 0.1000\n",
      "i =  1:\t0.5000 ≥ 0.1000\n",
      "i =  2:\t0.2500 ≥ 0.1000\n",
      "i =  3:\t0.1250 ≥ 0.1000\n",
      "i =  4:\t0.0625 < 0.1000\n",
      "==> r = 4\n"
     ]
    }
   ],
   "source": [
    "tol = 10**(-1)\n",
    "\n",
    "r = 0\n",
    "sigmas_max = np.max(sigmas)\n",
    "for i in range(0, len(sigmas_non_zero)):\n",
    "    val = sigmas_non_zero[i] / sigmas_max\n",
    "    if val < tol:\n",
    "        print(f'i = {i:2}:\\t{val:.4f} < {tol:.4f}')\n",
    "        r = i\n",
    "        break\n",
    "    else:\n",
    "        print(f'i = {i:2}:\\t{val:.4f} ≥ {tol:.4f}')\n",
    "\n",
    "print(f'==> r = {r}')"
   ]
  },
  {
   "cell_type": "markdown",
   "metadata": {},
   "source": [
    "## Totale Varianz\n",
    "\n",
    "> Nehmen wir nun an, dass $\\mathbf{X}$ zentrierte Daten enthält.\n",
    ">\n",
    "> Berechnen Sie die totale Varianz.\n",
    "\n",
    "$$T = \\frac{1}{n-1} ||\\mathbf{X}||_F^2$$"
   ]
  },
  {
   "cell_type": "code",
   "execution_count": 11,
   "metadata": {},
   "outputs": [
    {
     "name": "stdout",
     "output_type": "stream",
     "text": [
      "T = 21.8672\n"
     ]
    }
   ],
   "source": [
    "T = 1 / (n - 1) * X_F**2\n",
    "print(f'T = {T:.4f}')"
   ]
  },
  {
   "cell_type": "markdown",
   "metadata": {},
   "source": [
    "## 80% Varianz Hauptkomponenten\n",
    "\n",
    "> In wie vielen Hauptkomponenten liegen 80% der Totalen Varianz?\n",
    "\n",
    "$$\n",
    "\\frac{\\frac{1}{n - 1} \\sum_{j=1}^{{\\color{red} q} \\le \\ell} \\sigma_j^2}{T} \n",
    "= \\frac{\\sum_{j=1}^{{\\color{red} q}}}{\\sum_{j=1}^{\\ell} \\sigma_j^2}\n",
    "\\le \\operatorname{Tol}\n",
    "$$"
   ]
  },
  {
   "cell_type": "code",
   "execution_count": 12,
   "metadata": {},
   "outputs": [
    {
     "name": "stdout",
     "output_type": "stream",
     "text": [
      "q = 1:\t0.7500 ≤ 0.8000\n",
      "q = 2:\t0.9375 > 0.8000\n",
      "==> q = 2\n"
     ]
    }
   ],
   "source": [
    "tol = 0.8\n",
    "\n",
    "# konstant --> nur 1x berechnen\n",
    "denominator = np.sum(sigmas ** 2)\n",
    "\n",
    "for q in range(1, m):\n",
    "    numerator = np.sum(sigmas[:q] ** 2)\n",
    "    val = numerator / denominator\n",
    "    if val > tol:\n",
    "        print(f'q = {q}:\\t{val:.4f} > {tol:.4f}')\n",
    "        print(f'==> q = {q}')\n",
    "        break\n",
    "    else:\n",
    "        print(f'q = {q}:\\t{val:.4f} ≤ {tol:.4f}')"
   ]
  }
 ],
 "metadata": {
  "kernelspec": {
   "display_name": ".venv",
   "language": "python",
   "name": "python3"
  },
  "language_info": {
   "codemirror_mode": {
    "name": "ipython",
    "version": 3
   },
   "file_extension": ".py",
   "mimetype": "text/x-python",
   "name": "python",
   "nbconvert_exporter": "python",
   "pygments_lexer": "ipython3",
   "version": "3.12.4"
  }
 },
 "nbformat": 4,
 "nbformat_minor": 2
}
