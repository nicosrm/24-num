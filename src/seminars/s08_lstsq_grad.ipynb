{
 "cells": [
  {
   "cell_type": "markdown",
   "metadata": {},
   "source": [
    "# Aufgabe 1: Lineare kleinste Quadrate mit Gradienten-Verfahren\n",
    "\n",
    "> Für die Daten in der Tabelle soll mittels der kleinste Quadrate Methode ein\n",
    "> lineares Modell $p(x_1,x_2) = b + w_1x_1 + w_2x_2$ trainiert werden.\n",
    "> \n",
    "> | $j$ | $x_1$ | $x_2$ | $y$ |\n",
    "> |-----|-------|-------|-----|\n",
    "> | 1   | 1     | 2     | 1   |\n",
    "> | 2   | -2    | 5     | 6   |\n",
    "> | 3   | 0     | 1     | 1   |\n",
    "> \n",
    "> Es liegen Startnäherungen für die Gewichte vor:\n",
    "> - $b^{(0)} = 0$\n",
    "> - $w_1^{(0)} = -1$\n",
    "> - $w_2^{(0)} = 0$."
   ]
  },
  {
   "cell_type": "code",
   "execution_count": 1,
   "metadata": {},
   "outputs": [],
   "source": [
    "import numpy as np\n",
    "np.set_printoptions(precision=4)\n",
    "\n",
    "x1 = np.array([1, -2, 0])\n",
    "x2 = np.array([2, 5, 1])\n",
    "y = np.array([1, 6, 1])\n",
    "w0 = np.array([0, -1, 0])"
   ]
  },
  {
   "cell_type": "markdown",
   "metadata": {},
   "source": [
    "## Wert der Zielfunktion bzgl. Start-Gewichte\n",
    "\n",
    "> Berechnen Sie den Wert der Zielfunktion\n",
    "> $$f(w) = \\frac1n \\frac12 \\sum_{j=1}^n (y_j - p(\\mathbf{x}_j))^2$$\n",
    "> bzgl. der Startgewichte."
   ]
  },
  {
   "cell_type": "code",
   "execution_count": 2,
   "metadata": {},
   "outputs": [
    {
     "name": "stdout",
     "output_type": "stream",
     "text": [
      "[[ 1.  1.  2.]\n",
      " [ 1. -2.  5.]\n",
      " [ 1.  0.  1.]]\n"
     ]
    }
   ],
   "source": [
    "n = x1.shape[0]\n",
    "X = np.vstack((np.ones(n), x1, x2)).T\n",
    "print(X)"
   ]
  },
  {
   "cell_type": "code",
   "execution_count": 12,
   "metadata": {},
   "outputs": [
    {
     "name": "stdout",
     "output_type": "stream",
     "text": [
      "Wert der Zielfunktion = 3.5\n"
     ]
    }
   ],
   "source": [
    "def f(X, W, y):\n",
    "    return 1/n * 1/2 * np.sum((X @ W - y)**2)    \n",
    "\n",
    "f1 = f(X, w0, y)\n",
    "print(f'Wert der Zielfunktion = {f1}')"
   ]
  },
  {
   "cell_type": "markdown",
   "metadata": {},
   "source": [
    "## Batch-Gradienten-Verfahren\n",
    "\n",
    "> Führen Sie einen Schritt des (Batch-) Gradienten-Verfahrens mit Schrittweite\n",
    "> $\\alpha=0.05$ aus. Geben Sie den Zielfunktionswert nach diesem Schritt an."
   ]
  },
  {
   "cell_type": "code",
   "execution_count": 39,
   "metadata": {},
   "outputs": [
    {
     "name": "stdout",
     "output_type": "stream",
     "text": [
      "W = [ 0.1167 -1.1     0.4167]\n",
      "f = 0.6834\n"
     ]
    }
   ],
   "source": [
    "alpha = 0.05\n",
    "\n",
    "def grad(w, X, y):\n",
    "    return X.T @ (X @ w - y)\n",
    "\n",
    "def gd(w, X, y, rate):\n",
    "    n = X.shape[0]\n",
    "    g = grad(w, X, y)\n",
    "    return w - g / n * rate\n",
    "\n",
    "W_gd = gd(w0, X, y, alpha)\n",
    "print('W =', W_gd)\n",
    "\n",
    "f_gd = f(X, W_gd, y)\n",
    "print(f'f = {f_gd:.4f}')"
   ]
  },
  {
   "cell_type": "markdown",
   "metadata": {},
   "source": [
    "## Stochastisches Gradienten-Verfahren\n",
    "\n",
    "> Wiederholen Sie **(b)** mit einer Epoche des stochastischen\n",
    "> Gradienten-Verfahrens. Benutzen Sie dabei die ursprüngliche Reihenfolge der\n",
    "> Beobachtungen und geben Sie die Zielfunktion am Ende der Epoche an."
   ]
  },
  {
   "cell_type": "code",
   "execution_count": 5,
   "metadata": {},
   "outputs": [],
   "source": [
    "def sgd(w0, X, y, grad_fun, max_it, rate, perm=None):\n",
    "    w = w0\n",
    "    n = X.shape[0]\n",
    "    \n",
    "    for k in range(max_it):\n",
    "        idx = perm or np.random.permutation(n)\n",
    "        print(k + 1, 'idx:', idx)\n",
    "\n",
    "        for i in idx:\n",
    "            xi = np.array([X[i - 1]])\n",
    "            yi = np.array([y[i - 1]])\n",
    "            grad = grad_fun(w, xi, yi)\n",
    "            w = w - rate * grad\n",
    "        print(k + 1, 'W:', w)\n",
    "    \n",
    "    return w"
   ]
  },
  {
   "cell_type": "code",
   "execution_count": 34,
   "metadata": {},
   "outputs": [
    {
     "name": "stdout",
     "output_type": "stream",
     "text": [
      "1 idx: [0, 1, 2]\n",
      "1 W: [ 0.2859 -1.1943  0.9519]\n",
      "==> [ 0.2859 -1.1943  0.9519]\n"
     ]
    }
   ],
   "source": [
    "perm = [0, 1, 2]\n",
    "W_sgd = sgd(w0, X, y, grad_fun=grad, max_it=1, rate=alpha, perm=perm)\n",
    "print('==>', W_sgd)"
   ]
  },
  {
   "cell_type": "code",
   "execution_count": 35,
   "metadata": {},
   "outputs": [
    {
     "name": "stdout",
     "output_type": "stream",
     "text": [
      "f = 0.3520\n"
     ]
    }
   ],
   "source": [
    "f_sgd = f(X, W_sgd, y)\n",
    "print(f'f = {f_sgd:.4f}')"
   ]
  }
 ],
 "metadata": {
  "kernelspec": {
   "display_name": ".venv",
   "language": "python",
   "name": "python3"
  },
  "language_info": {
   "codemirror_mode": {
    "name": "ipython",
    "version": 3
   },
   "file_extension": ".py",
   "mimetype": "text/x-python",
   "name": "python",
   "nbconvert_exporter": "python",
   "pygments_lexer": "ipython3",
   "version": "3.12.4"
  }
 },
 "nbformat": 4,
 "nbformat_minor": 2
}
