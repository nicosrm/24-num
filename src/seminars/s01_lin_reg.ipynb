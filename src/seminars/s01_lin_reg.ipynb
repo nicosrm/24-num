{
 "cells": [
  {
   "cell_type": "markdown",
   "id": "cd4148cc",
   "metadata": {},
   "source": [
    "# Aufgabe 1: Lineare Regression und co.\n",
    "\n",
    "> An verschiedene Stellen $x_i$ eines horizontalen Balken von Länge\n",
    "> $L=7m$ wurde die Durchbiegung $y_i$ gemessen:\n",
    "> ![Werte und Plot](./assets/s01_aufg1.png)"
   ]
  },
  {
   "cell_type": "code",
   "execution_count": 4,
   "id": "cecc9df7",
   "metadata": {},
   "outputs": [
    {
     "data": {
      "image/png": "[encoded data removed]",
      "text/plain": [
       "<Figure size 640x480 with 1 Axes>"
      ]
     },
     "metadata": {},
     "output_type": "display_data"
    }
   ],
   "source": [
    "import numpy as np\n",
    "import matplotlib.pyplot as plt\n",
    "\n",
    "x = np.array([1.0, 2.0, 3.5, 4.0, 5.0, 6.0])\n",
    "y = np.array([0.1, 0.2, 0.5, 1.0, 0.9, 1.4])\n",
    "\n",
    "plt.plot(x, y, 'rx')\n",
    "plt.show()"
   ]
  },
  {
   "cell_type": "markdown",
   "id": "aa40537a",
   "metadata": {},
   "source": [
    "## Linearer Zusammenhang\n",
    "\n",
    "> Kann bei den Daten von einem näherungsweise linearem Zusammenhang ausgegangen\n",
    "> werden? Berechnen Sie zur Untermauerung Ihrer Antwort die empirische Kovarianz\n",
    "> sowie den empirischen Korrelationskoeffizienten (nach Braivais-Pearson).\n",
    "\n",
    "- empirische Varianz $\\displaystyle \\tilde{s}_x^2 =\n",
    "    \\frac1n \\sum_{j=1}^n (x_j - \\overline{x})^2$\n",
    "- empirische Standardabweichung $\\displaystyle \\tilde{s}_x\n",
    "    = \\sqrt{\\tilde{s}_x^2}$\n",
    "- empirische Kovarianz $\\displaystyle \\tilde{s}_{x,y} = \\frac1n\n",
    "    \\sum_{j=1}^n (x_j - \\overline{x}) (y_j - \\overline{y})$\n",
    "- empirischer Korrelationskoeffizient $\\displaystyle r_{x,y} =\n",
    "    \\frac{\\tilde{s}_{x,y}}{\\tilde{s}_x \\tilde{s}_y} \\in [-1,1]$\n",
    "\n",
    "$\\Rightarrow$  linearer Zusammenhang $\\Leftrightarrow$ $r_{x,y} \\approx 1$"
   ]
  },
  {
   "cell_type": "code",
   "execution_count": 7,
   "id": "4d02bbf6",
   "metadata": {},
   "outputs": [
    {
     "name": "stdout",
     "output_type": "stream",
     "text": [
      "x_mean =  3.5833333333333335\n",
      "y_mean =  0.6833333333333332\n"
     ]
    }
   ],
   "source": [
    "n = len(x)\n",
    "\n",
    "# arithmetisches Mittel\n",
    "x_mean = np.mean(x)\n",
    "y_mean = np.mean(y)\n",
    "\n",
    "print('x_mean = ', x_mean)\n",
    "print('y_mean = ', y_mean)"
   ]
  },
  {
   "cell_type": "code",
   "execution_count": 21,
   "id": "9c2c52ca",
   "metadata": {},
   "outputs": [
    {
     "name": "stdout",
     "output_type": "stream",
     "text": [
      "s2_x = 2.8681\n",
      "s2_y = 0.2114\n",
      "s_x = 1.6935\n",
      "s_y = 0.4598\n"
     ]
    }
   ],
   "source": [
    "# Varianz\n",
    "# s2_x = np.sum(x ** 2) / n - x_mean ** 2\n",
    "# s2_y = np.sum(y ** 2) / n - y_mean ** 2\n",
    "s2_x = np.var(x)\n",
    "s2_y = np.var(y)\n",
    "\n",
    "print(f's2_x = {s2_x:.4f}')\n",
    "print(f's2_y = {s2_y:.4f}')\n",
    "\n",
    "# Standardabweichung\n",
    "# s_x = np.std(x)\n",
    "# s_y = np.std(y)\n",
    "s_x = np.sqrt(s2_x)\n",
    "s_y = np.sqrt(s2_y)\n",
    "\n",
    "print(f's_x = {s_x:.4f}')\n",
    "print(f's_y = {s_y:.4f}')"
   ]
  },
  {
   "cell_type": "code",
   "execution_count": 19,
   "id": "e17de44e",
   "metadata": {},
   "outputs": [
    {
     "name": "stdout",
     "output_type": "stream",
     "text": [
      "s_xy = 0.7431\n"
     ]
    }
   ],
   "source": [
    "# Kovarianz\n",
    "s_xy = np.sum(x * y) / n - x_mean * y_mean\n",
    "print(f's_xy = {s_xy:.4f}')"
   ]
  },
  {
   "cell_type": "code",
   "execution_count": 23,
   "id": "8f654628",
   "metadata": {},
   "outputs": [
    {
     "name": "stdout",
     "output_type": "stream",
     "text": [
      "r_xy = 0.9543\n"
     ]
    }
   ],
   "source": [
    "# Korrelationskoeffizient\n",
    "r_xy = s_xy / (s_x * s_y)\n",
    "print(f'r_xy = {r_xy:.4f}')"
   ]
  },
  {
   "cell_type": "markdown",
   "id": "e0a7b72b",
   "metadata": {},
   "source": [
    "$r_{x,y} \\approx 1 \\Rightarrow$ annähernd linearer Zusammenhang"
   ]
  },
  {
   "cell_type": "markdown",
   "id": "a42a9e4d",
   "metadata": {},
   "source": [
    "## Regressionsgerade\n",
    "\n",
    "> Berechnen Sie eine Regressionsgerade $g(x) = wx +b$ und prognostizieren Sie\n",
    "> damit die Durchbiegung am Endpunkt des Balkens.\n",
    "\n",
    "$$\n",
    "w = \\frac{\\tilde{s}_{x,y}}{\\tilde{s}_x^2} \\newline\n",
    "b = \\vec{y} - w \\cdot \\vec{x}\n",
    "$$"
   ]
  },
  {
   "cell_type": "code",
   "execution_count": 25,
   "id": "7b56a174",
   "metadata": {},
   "outputs": [
    {
     "name": "stdout",
     "output_type": "stream",
     "text": [
      "w = 0.2590799031476997\n",
      "b = -0.24503631961259065\n"
     ]
    }
   ],
   "source": [
    "w = s_xy / s2_x\n",
    "b = y_mean - w * x_mean\n",
    "\n",
    "print('w =', w)\n",
    "print('b =', b)\n",
    "\n",
    "W = np.empty((2, 1))\n",
    "W[0] = w\n",
    "W[1] = b"
   ]
  },
  {
   "cell_type": "code",
   "execution_count": 26,
   "id": "f1007e35",
   "metadata": {},
   "outputs": [
    {
     "name": "stdout",
     "output_type": "stream",
     "text": [
      "0.8916666666666668\n",
      "3.4416666666666673\n",
      "w = 0.25907990314769974\n"
     ]
    }
   ],
   "source": [
    "# mit eingebauten Routinen\n",
    "# Achtung: einheitlich Stichproben / empirisch verwenden!\n",
    "print(np.cov(x, y)[0,1])\n",
    "print(np.var(x, ddof=1))\n",
    "print('w =', np.cov(x, y)[0,1] / np.var(x, ddof=1))"
   ]
  },
  {
   "cell_type": "code",
   "execution_count": 31,
   "id": "8ca00236",
   "metadata": {},
   "outputs": [
    {
     "name": "stdout",
     "output_type": "stream",
     "text": [
      "g(7) = 1.5685\n"
     ]
    }
   ],
   "source": [
    "def g(x):\n",
    "    return w * x + b\n",
    "\n",
    "endpunkt = 7\n",
    "print(f'g({endpunkt}) = {g(endpunkt):.4f}')"
   ]
  },
  {
   "cell_type": "markdown",
   "id": "f09d81c6",
   "metadata": {},
   "source": [
    "## Regression als Minimierung\n",
    "\n",
    "> Diese Regressionsaufgabe lässt sich auch als Minimierungsaufgabe\n",
    "> $$f(w,b) = \\sum_{j=1}^n (y_j - g(x_j))^2 \\to \\min$$\n",
    "> lösen. Zeigen Sie, dass dies genau die bekannten Formeln aus der Statistik\n",
    "> ergibt. Schreiben Sie $f$ in der Form $||\\mathbf{y} - \\mathbf{Aw}||_2^2$."
   ]
  },
  {
   "cell_type": "code",
   "execution_count": 37,
   "id": "e67af581",
   "metadata": {},
   "outputs": [
    {
     "name": "stdout",
     "output_type": "stream",
     "text": [
      "W = [ 0.2590799  -0.24503632]\n",
      "w = 0.25907990314769985\n",
      "b = -0.24503631961259112\n"
     ]
    }
   ],
   "source": [
    "# Ausgleichsmatrix\n",
    "A = np.stack([x, np.ones(n)]).T\n",
    "\n",
    "# Kleinste-Quadrate-Lösung\n",
    "W = np.linalg.lstsq(A, y, rcond=None)[0]\n",
    "w = W[0]\n",
    "b = W[1]\n",
    "\n",
    "print('W =', W)\n",
    "print('w =', w)\n",
    "print('b =', b)"
   ]
  },
  {
   "cell_type": "code",
   "execution_count": 38,
   "id": "e685fd63",
   "metadata": {},
   "outputs": [
    {
     "data": {
      "image/png": "[encoded data removed]",
      "text/plain": [
       "<Figure size 640x480 with 1 Axes>"
      ]
     },
     "metadata": {},
     "output_type": "display_data"
    }
   ],
   "source": [
    "plt.plot(x, y, 'r+', label='Daten')\n",
    "plt.plot(x, w * x + b, label='g(x)')\n",
    "plt.legend()\n",
    "plt.show()"
   ]
  },
  {
   "cell_type": "markdown",
   "id": "95334c86",
   "metadata": {},
   "source": [
    "## Erweiterung kubisch\n",
    "\n",
    "> Wie muss man Teil **(b)** erweitern, um ein kubisches Modell\n",
    "> $g(x) = w_1x + w_2x^2 + w_3x^3 + b$ zu verwenden?"
   ]
  },
  {
   "cell_type": "code",
   "execution_count": 41,
   "id": "fe692d43",
   "metadata": {},
   "outputs": [
    {
     "name": "stdout",
     "output_type": "stream",
     "text": [
      "W = [-0.01394558  0.06768707 -0.0047619   0.03265306]\n"
     ]
    },
    {
     "data": {
      "image/png": "[encoded data removed]",
      "text/plain": [
       "<Figure size 640x480 with 1 Axes>"
      ]
     },
     "metadata": {},
     "output_type": "display_data"
    }
   ],
   "source": [
    "# neue Ausgleichsmatrix\n",
    "A_kubisch = np.vstack([x, x ** 2, x ** 3, np.ones(n)]).T\n",
    "\n",
    "W_kubisch = np.linalg.lstsq(A_kubisch, y, rcond=None)[0]\n",
    "print('W =', W_kubisch)\n",
    "\n",
    "x_plot = np.linspace(1, 6, 100)\n",
    "\n",
    "plt.plot(x, y, 'r+', label='Daten')\n",
    "plt.plot(x_plot, W_kubisch[0] * x_plot + W_kubisch[1] * x_plot ** 2 + W_kubisch[2] * x_plot ** 3 + W_kubisch[3], label='kub')\n",
    "plt.show()"
   ]
  }
 ],
 "metadata": {
  "kernelspec": {
   "display_name": "Python 3 (ipykernel)",
   "language": "python",
   "name": "python3"
  },
  "language_info": {
   "codemirror_mode": {
    "name": "ipython",
    "version": 3
   },
   "file_extension": ".py",
   "mimetype": "text/x-python",
   "name": "python",
   "nbconvert_exporter": "python",
   "pygments_lexer": "ipython3",
   "version": "3.12.4"
  }
 },
 "nbformat": 4,
 "nbformat_minor": 5
}
