{
 "cells": [
  {
   "cell_type": "markdown",
   "metadata": {},
   "source": [
    "# Implementierung Gradienten-Verfahren"
   ]
  },
  {
   "cell_type": "code",
   "execution_count": 50,
   "metadata": {},
   "outputs": [],
   "source": [
    "import numdifftools as nd\n",
    "import numpy as np\n",
    "np.set_printoptions(precision=4, floatmode='fixed')"
   ]
  },
  {
   "cell_type": "code",
   "execution_count": 80,
   "metadata": {},
   "outputs": [],
   "source": [
    "def steepest_descent(f, start, alpha, max_iterations, tol = 1e-06):\n",
    "    gradf = nd.Gradient(f)\n",
    "    xk = start\n",
    "\n",
    "    for k in range(0, max_iterations):\n",
    "        fk = f(xk)\n",
    "        g = gradf(xk)\n",
    "        print(f'{k:3.0f}: f({xk}) = {fk:.4f}\\t' +\n",
    "              f'||∇f|| = {np.linalg.norm(g):.2f}')\n",
    "        diff = alpha * g\n",
    "        if (np.all(np.abs(diff)) <= tol):\n",
    "            return\n",
    "        xk -= diff\n",
    "\n",
    "    print(f'{max_iterations:3.0f}: f({xk}) = {f(xk):.4f}\\t' +\n",
    "          f'||∇f|| = {np.linalg.norm(gradf(xk)):.2f}')"
   ]
  },
  {
   "cell_type": "markdown",
   "metadata": {},
   "source": [
    "# Beispiel"
   ]
  },
  {
   "cell_type": "code",
   "execution_count": 79,
   "metadata": {},
   "outputs": [
    {
     "name": "stdout",
     "output_type": "stream",
     "text": [
      "  0: f([-1.0000  0.0000]) = 14.00\t||∇f|| = 48.33\n",
      "  1: f([-0.5600  0.2000]) = 2.56\t||∇f|| = 6.10\n",
      "  2: f([-0.5034  0.2227]) = 2.27\t||∇f|| = 3.68\n",
      "  3: f([-0.4671  0.2288]) = 2.15\t||∇f|| = 2.74\n",
      "  4: f([-0.4398  0.2267]) = 2.08\t||∇f|| = 2.39\n",
      "  5: f([-0.4168  0.2201]) = 2.03\t||∇f|| = 2.26\n",
      "  6: f([-0.3962  0.2108]) = 1.98\t||∇f|| = 2.22\n",
      "  7: f([-0.3768  0.2000]) = 1.93\t||∇f|| = 2.21\n",
      "  8: f([-0.3580  0.1884]) = 1.88\t||∇f|| = 2.21\n",
      "  9: f([-0.3395  0.1764]) = 1.83\t||∇f|| = 2.22\n",
      " 10: f([-0.3210  0.1642]) = 1.7824\t||∇f|| = 2.22\n"
     ]
    }
   ],
   "source": [
    "# x = [x, y]\n",
    "f = lambda x: 10 * (x[1] - x[0]**2)**2 + (1 - x[0])**2\n",
    "start = np.array([-1, 0], dtype=float)\n",
    "alpha = 0.01\n",
    "max_iterations = 10\n",
    "tol = 1e-06\n",
    "\n",
    "steepest_descent(f, start, alpha, max_iterations, tol)"
   ]
  }
 ],
 "metadata": {
  "kernelspec": {
   "display_name": ".venv",
   "language": "python",
   "name": "python3"
  },
  "language_info": {
   "codemirror_mode": {
    "name": "ipython",
    "version": 3
   },
   "file_extension": ".py",
   "mimetype": "text/x-python",
   "name": "python",
   "nbconvert_exporter": "python",
   "pygments_lexer": "ipython3",
   "version": "3.12.3"
  }
 },
 "nbformat": 4,
 "nbformat_minor": 2
}
