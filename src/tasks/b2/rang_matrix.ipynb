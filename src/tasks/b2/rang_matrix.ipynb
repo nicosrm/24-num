{
 "cells": [
  {
   "cell_type": "markdown",
   "metadata": {},
   "source": [
    "# Rang einer Matrix\n",
    "\n",
    "*Welche der folgenden Matrizen haben Rang 1?*\n",
    "\n",
    "$$A = \\begin{pmatrix} 1&1&1 \\\\ 1&1&1 \\\\ 1&1&1\\end{pmatrix}$$\n",
    "\n",
    "$$B = \\begin{pmatrix} 0&0&0 \\\\ 0&1&0 \\\\ 0&0&0\\end{pmatrix}$$\n",
    "\n",
    "$$C = \\begin{pmatrix} 1&0&0 \\\\ 0&1&0 \\\\ 0&0&1\\end{pmatrix}$$"
   ]
  },
  {
   "cell_type": "markdown",
   "metadata": {},
   "source": [
    "- Rang ist höchstens max. Dimension (d.h. Anzahl Zeilen / Spalten)\n",
    "- außerdem **nicht** $0$-Zeilen / -Spalten\n",
    "- ansonsten linear unabhägig\n",
    "\n",
    "$\\Rightarrow A$, da nur 1 linear unabhängige Zeile / Spalte\n",
    "\n",
    "$\\Rightarrow B$, da nur 1 unabhängige Nicht-$0$-Zeile / -Spalte\n",
    "\n",
    "$\\Rightarrow \\lnot C$, da 3 unabhängige Nicht-$0$-Zeilen / -Spalten"
   ]
  },
  {
   "cell_type": "code",
   "execution_count": 4,
   "metadata": {},
   "outputs": [],
   "source": [
    "import numpy as np\n",
    "\n",
    "A = np.stack([np.ones(3)]*3)\n",
    "B = np.array([[0, 0, 0], [0, 1, 0], [0, 0, 0]])\n",
    "C = np.eye(3)"
   ]
  },
  {
   "cell_type": "code",
   "execution_count": 5,
   "metadata": {},
   "outputs": [
    {
     "name": "stdout",
     "output_type": "stream",
     "text": [
      "1\n",
      "1\n",
      "3\n"
     ]
    }
   ],
   "source": [
    "print(np.linalg.matrix_rank(A))\n",
    "print(np.linalg.matrix_rank(B))\n",
    "print(np.linalg.matrix_rank(C))"
   ]
  }
 ],
 "metadata": {
  "kernelspec": {
   "display_name": ".venv",
   "language": "python",
   "name": "python3"
  },
  "language_info": {
   "codemirror_mode": {
    "name": "ipython",
    "version": 3
   },
   "file_extension": ".py",
   "mimetype": "text/x-python",
   "name": "python",
   "nbconvert_exporter": "python",
   "pygments_lexer": "ipython3",
   "version": "3.12.3"
  }
 },
 "nbformat": 4,
 "nbformat_minor": 2
}
