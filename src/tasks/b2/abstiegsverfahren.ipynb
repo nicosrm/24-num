{
 "cells": [
  {
   "cell_type": "markdown",
   "metadata": {},
   "source": [
    "# Abstiegsverfahren (Gradientenrichtung)\n",
    "\n",
    "*Gegeben ist die Funktion $f(x,y) = -2y^3 - 6xy + 3x^3 + 3x$. Führen Sie ausgehend von $x_0=1,~y_0=0$ zwei Schritte des Gradientenverfahrens (Verfahren des steilsten Abstiegs) mit Schrittweite $h=0.2$ aus.*"
   ]
  },
  {
   "cell_type": "code",
   "execution_count": 1,
   "metadata": {},
   "outputs": [],
   "source": [
    "import numdifftools as nd\n",
    "import numpy as np\n",
    "np.set_printoptions(precision=4, floatmode='fixed')\n",
    "\n",
    "def steepest_descent(f, start, alpha, max_iterations, tol = 1e-06):\n",
    "    gradf = nd.Gradient(f)\n",
    "    xk = start\n",
    "\n",
    "    for k in range(0, max_iterations):\n",
    "        fk = f(xk)\n",
    "        g = gradf(xk)\n",
    "        print(f'{k:3.0f}: f({xk}) = {fk:.4f}\\t' +\n",
    "              f'||∇f|| = {np.linalg.norm(g):.2f}')\n",
    "        diff = alpha * g\n",
    "        if (np.all(np.abs(diff)) <= tol):\n",
    "            return\n",
    "        xk -= diff\n",
    "\n",
    "    print(f'{max_iterations:3.0f}: f({xk}) = {f(xk):.4f}\\t' +\n",
    "          f'||∇f|| = {np.linalg.norm(gradf(xk)):.2f}')"
   ]
  },
  {
   "cell_type": "code",
   "execution_count": 4,
   "metadata": {},
   "outputs": [
    {
     "name": "stdout",
     "output_type": "stream",
     "text": [
      "  0: f([1.0000 0.0000]) = 6.0000\t||∇f|| = 13.42\n",
      "  1: f([-1.4000  1.2000]) = -5.8080\t||∇f|| = 13.44\n",
      "  2: f([-4.0880  1.2480]) = -190.4934\t||∇f|| = 146.71\n"
     ]
    }
   ],
   "source": [
    "# x = [x, y]\n",
    "f = lambda x: -2 * x[1]**3 - 6*x[0]*x[1] + 3*x[0]**3 + 3*x[0]\n",
    "start = np.array([1, 0], dtype=float)\n",
    "alpha = 0.2\n",
    "max_iterations = 2\n",
    "\n",
    "steepest_descent(f, start, alpha, max_iterations, tol)"
   ]
  }
 ],
 "metadata": {
  "kernelspec": {
   "display_name": ".venv",
   "language": "python",
   "name": "python3"
  },
  "language_info": {
   "codemirror_mode": {
    "name": "ipython",
    "version": 3
   },
   "file_extension": ".py",
   "mimetype": "text/x-python",
   "name": "python",
   "nbconvert_exporter": "python",
   "pygments_lexer": "ipython3",
   "version": "3.12.3"
  }
 },
 "nbformat": 4,
 "nbformat_minor": 2
}
