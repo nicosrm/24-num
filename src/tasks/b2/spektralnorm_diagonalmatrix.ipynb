{
 "cells": [
  {
   "cell_type": "markdown",
   "metadata": {},
   "source": [
    "# Spektralnorm einer Diagonalmatrix\n",
    "\n",
    "$$\n",
    "A = \\begin{pmatrix}\n",
    "    0 &0 &0 &0 &0 \\\\\n",
    "    0 &8 &0 &0 &0 \\\\\n",
    "    0 &0 &-5 &0 &0 \\\\\n",
    "    0 &0 &0 &-3 &0 \\\\\n",
    "    0 &0 &0 &0 &-3 \\\\\n",
    "\\end{pmatrix} \\Rightarrow ||A||_2 = ?\n",
    "$$"
   ]
  },
  {
   "cell_type": "code",
   "execution_count": 18,
   "metadata": {},
   "outputs": [
    {
     "name": "stdout",
     "output_type": "stream",
     "text": [
      "[[ 4  0  0  0  0]\n",
      " [ 0  0  0  0  0]\n",
      " [ 0  0  7  0  0]\n",
      " [ 0  0  0 -3  0]\n",
      " [ 0  0  0  0  1]]\n"
     ]
    }
   ],
   "source": [
    "import numpy as np\n",
    "\n",
    "diagonal_elemente = [4, 0, 7, -3, 1]\n",
    "A = np.diag(diagonal_elemente)\n",
    "print(A)"
   ]
  },
  {
   "cell_type": "code",
   "execution_count": 19,
   "metadata": {},
   "outputs": [
    {
     "data": {
      "text/plain": [
       "7.0"
      ]
     },
     "execution_count": 19,
     "metadata": {},
     "output_type": "execute_result"
    }
   ],
   "source": [
    "np.linalg.norm(A, 2)"
   ]
  },
  {
   "cell_type": "markdown",
   "metadata": {},
   "source": [
    "$$\n",
    "||A||_2 = \\sqrt{\\lambda_{\\operatorname{max}}(A^{\\operatorname{T}}A)}\n",
    "$$\n",
    "\n",
    "$A$ ist Diagonalmatrix $\\Rightarrow ||A||_2 =$ betragsmäßig größtes Diagonalelement"
   ]
  }
 ],
 "metadata": {
  "kernelspec": {
   "display_name": ".venv-3.11",
   "language": "python",
   "name": "python3"
  },
  "language_info": {
   "codemirror_mode": {
    "name": "ipython",
    "version": 3
   },
   "file_extension": ".py",
   "mimetype": "text/x-python",
   "name": "python",
   "nbconvert_exporter": "python",
   "pygments_lexer": "ipython3",
   "version": "3.12.3"
  }
 },
 "nbformat": 4,
 "nbformat_minor": 2
}
