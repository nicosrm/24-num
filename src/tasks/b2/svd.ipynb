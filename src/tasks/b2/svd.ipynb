{
 "cells": [
  {
   "cell_type": "markdown",
   "metadata": {},
   "source": [
    "# Singulärwertzerlegung\n",
    "\n",
    "Jede Matrix $A\\in\\mathbb{R}^{n\\times m}$ lässt sich als $A=U\\Sigma V^{\\operatorname{T}}$ schreiben, wobei $U\\in\\mathbb{R}^{n\\times n}$, $V\\in\\mathbb{R}^{n\\times n}$ orthogonale Matrizen sind und $\\Sigma\\in\\mathbb{R}^{n\\times m}$ eine Diagonalmatrix ist.\n",
    "\n",
    "Bestimmen Sie die **Singulärwertzerlegung** der Matrix $$A=\\begin{pmatrix} -1 &-8 \\\\ -4 &4 \\end{pmatrix}.$$\n",
    "\n",
    "*Hinweis*: Zur Rechnung \"von Hand\" nutzen Sie, z.B. die Eigenwerte und Eigenvektoren der Matrix $AA^{\\operatorname{T}}$ um die Singulärwerte und einen Satz Singulärvektoren (rechts oder links) zu erhalten. Überlegen Sie sich, wie man den anderen Satz Singulärwerte daraus erhält.\n",
    "\n",
    "Gesucht: $A = U\\Sigma V^{\\operatorname{T}} = (~~)(~~)(~~)$"
   ]
  },
  {
   "cell_type": "code",
   "execution_count": 6,
   "metadata": {},
   "outputs": [],
   "source": [
    "import numpy as np\n",
    "np.set_printoptions(precision=4)\n",
    "\n",
    "A = np.array([[-1, -8], [-4, 4]])"
   ]
  },
  {
   "cell_type": "code",
   "execution_count": 19,
   "metadata": {},
   "outputs": [
    {
     "name": "stdout",
     "output_type": "stream",
     "text": [
      "[[-0.8682  0.4961]\n",
      " [ 0.4961  0.8682]]\n",
      "[[9. 0.]\n",
      " [0. 4.]]\n",
      "[[-0.124   0.9923]\n",
      " [-0.9923 -0.124 ]]\n"
     ]
    }
   ],
   "source": [
    "U, S, VT = np.linalg.svd(A)\n",
    "\n",
    "print(U)\n",
    "print(np.diag(S))\n",
    "print(VT)"
   ]
  },
  {
   "cell_type": "code",
   "execution_count": 41,
   "metadata": {},
   "outputs": [
    {
     "name": "stdout",
     "output_type": "stream",
     "text": [
      "[[-1. -8.]\n",
      " [-4.  4.]] = USVT\n",
      "USVT == A: True\n"
     ]
    }
   ],
   "source": [
    "# Probe\n",
    "USVT = U @ np.diag(S) @ VT\n",
    "print(USVT, '= USVT')\n",
    "\n",
    "print('USVT == A:', np.allclose(USVT, A))"
   ]
  }
 ],
 "metadata": {
  "kernelspec": {
   "display_name": ".venv",
   "language": "python",
   "name": "python3"
  },
  "language_info": {
   "codemirror_mode": {
    "name": "ipython",
    "version": 3
   },
   "file_extension": ".py",
   "mimetype": "text/x-python",
   "name": "python",
   "nbconvert_exporter": "python",
   "pygments_lexer": "ipython3",
   "version": "3.12.3"
  }
 },
 "nbformat": 4,
 "nbformat_minor": 2
}
