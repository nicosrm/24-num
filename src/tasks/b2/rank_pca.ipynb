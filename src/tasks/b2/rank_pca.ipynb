{
 "cells": [
  {
   "cell_type": "markdown",
   "metadata": {},
   "source": [
    "# SVD, numerischer Rang und PCA\n",
    "\n",
    "Gegeben sei eine $10.000\\times400$ zentrierte Daten-Matrix $X$ mit Singulärwerten $\\sigma_j = 10.000 \\cdot \\exp{\\left(-\\sqrt{j+8}\\right)}$, $j=1,\\ldots,400$.\n",
    "\n",
    "Berechnen Sie\n",
    "- $||X||_2$\n",
    "- den numerischen Rang in Single-Precision (Maschinengenauigkeit $\\text{eps} = 1.19209\\cdot10^{-7}$)\n",
    "- den absoluten Fehler einer Best-Approximation von Rang $42$ in der $2$-Norm $||X-X_42||_2$ und wie viel Speicher dabei in Single-Precision eingespart wird (in $\\%$)\n",
    "- wie groß der Rang $r$ einer Best-Approximation gewählt werden muss, damit $||X-X_r||_2 \\le 10^{-4} \\cdot ||X||_2$\n",
    "- die totale Varianz $T$\n",
    "- wie viel $\\%$ der Totalen Varianz in den ersten $3$ PCA-Hauptkomponenten liegen."
   ]
  },
  {
   "cell_type": "code",
   "execution_count": 7,
   "metadata": {},
   "outputs": [],
   "source": [
    "import numpy as np\n",
    "np.set_printoptions(precision=4, suppress=True)\n",
    "\n",
    "n = 10_000\n",
    "m = 300\n",
    "\n",
    "def sigma(j):\n",
    "    return n * np.exp(-1 * np.sqrt(j + 8))"
   ]
  },
  {
   "cell_type": "markdown",
   "metadata": {},
   "source": [
    "## $2$-Norm\n",
    "\n",
    "$$\n",
    "||X||_2 = \\max \\sigma_j = \\sigma_1\n",
    "$$"
   ]
  },
  {
   "cell_type": "code",
   "execution_count": 8,
   "metadata": {},
   "outputs": [],
   "source": [
    "sigmas = []\n",
    "\n",
    "for i in range(1, m + 1):\n",
    "    sigmas.append(sigma(i))\n",
    "\n",
    "sigmas = np.array(sigmas)"
   ]
  },
  {
   "cell_type": "code",
   "execution_count": 9,
   "metadata": {},
   "outputs": [
    {
     "name": "stdout",
     "output_type": "stream",
     "text": [
      "||X||2 = 497.8707\n"
     ]
    }
   ],
   "source": [
    "X2 = np.max(sigmas)\n",
    "# X2 = sigmas[1 - 1]\n",
    "print(f'||X||2 = {X2:.4f}')"
   ]
  },
  {
   "cell_type": "markdown",
   "metadata": {},
   "source": [
    "## Numerischer Rang\n",
    "\n",
    "Numerischer Rang ($\\varepsilon$-Rang) von $\\mathbf{X}\\in\\mathbb{R}^{n\\times m}$ mit Singulärwerten $\\left( \\sigma_j\\right)_{j=1}^m$ und Toleranz $0<\\varepsilon \\ll n:$\n",
    "\n",
    "$\\operatorname{rang}_\\varepsilon(\\mathbf{X}) = \\text{Anzahl Singulärwerte mit}~\\sigma_j>\\varepsilon$\n",
    "\n",
    "mit $\\varepsilon = \\max{(n,m)} \\cdot \\Vert \\mathbf{X} \\Vert_2 \\cdot \\texttt{eps}$"
   ]
  },
  {
   "cell_type": "code",
   "execution_count": 10,
   "metadata": {},
   "outputs": [
    {
     "name": "stdout",
     "output_type": "stream",
     "text": [
      "86\n"
     ]
    }
   ],
   "source": [
    "eps = 1.19209 * 1e-7\n",
    "val = max(n, m) * X2 * eps\n",
    "\n",
    "rank_eps = np.count_nonzero(sigmas > val)\n",
    "print(rank_eps)"
   ]
  },
  {
   "cell_type": "markdown",
   "metadata": {},
   "source": [
    "## Absoluter Fehler Best-Approximation\n",
    "\n",
    "Absoluter Fehler einer Rang-$k$ Best-Approximation: $||\\mathbf{X} - \\mathbf{X}_k||_2 = \\sigma_{k+1}$"
   ]
  },
  {
   "cell_type": "code",
   "execution_count": 12,
   "metadata": {},
   "outputs": [
    {
     "data": {
      "text/plain": [
       "7.9162"
      ]
     },
     "execution_count": 12,
     "metadata": {},
     "output_type": "execute_result"
    }
   ],
   "source": [
    "k = 42\n",
    "round(sigma(k + 1), 4)"
   ]
  },
  {
   "cell_type": "markdown",
   "metadata": {},
   "source": [
    "### Speichereinsparung\n",
    "\n",
    "$\\text{Speicher}=\\#\\text{Zeilen} \\cdot \\# \\text{Spalten} \\cdot 32~\\text{Bit}$\n",
    "\n",
    "$\\text{Speicher}_r = nk + k + mk~(U_k \\Sigma_k V^\\intercal_r: n\\times k + k + m \\times k)$"
   ]
  },
  {
   "cell_type": "code",
   "execution_count": 36,
   "metadata": {},
   "outputs": [
    {
     "name": "stdout",
     "output_type": "stream",
     "text": [
      "85.5786%\n"
     ]
    }
   ],
   "source": [
    "speicher_original = n * m * 32\n",
    "# speicher_rang_approx = (n*k + k + m*k) * 32\n",
    "speicher_rang_approx = k * (n + m + 1) * 32\n",
    "\n",
    "einsparung = (1 - speicher_rang_approx / speicher_original) * 100\n",
    "print(f'{einsparung:.4f}%')"
   ]
  },
  {
   "cell_type": "code",
   "execution_count": 29,
   "metadata": {},
   "outputs": [
    {
     "data": {
      "text/plain": [
       "432642"
      ]
     },
     "execution_count": 29,
     "metadata": {},
     "output_type": "execute_result"
    }
   ],
   "source": [
    "k * (n + m + 1)"
   ]
  },
  {
   "cell_type": "code",
   "execution_count": 30,
   "metadata": {},
   "outputs": [
    {
     "data": {
      "text/plain": [
       "434364"
      ]
     },
     "execution_count": 30,
     "metadata": {},
     "output_type": "execute_result"
    }
   ],
   "source": [
    "n*k + k*k + m*k"
   ]
  },
  {
   "cell_type": "markdown",
   "metadata": {},
   "source": [
    "## Bestimmung Rang\n",
    "\n",
    "> Wie groß der Rang $r$ einer Best-Approximation gewählt werden muss, damit $||X-X_r||_2 \\le 10^{-4} \\cdot ||X||_2$?\n",
    "\n",
    "$$\n",
    "\\begin{aligned}\n",
    "\\Vert X - X_r \\Vert_2 &\\le 10^{-4} \\cdot \\Vert X \\Vert_2 \\\\\n",
    "\\Rightarrow \\sigma_{r+1} &\\le 10^{-4} \\cdot \\sigma_1\n",
    "\\end{aligned}\n",
    "$$"
   ]
  },
  {
   "cell_type": "code",
   "execution_count": 20,
   "metadata": {},
   "outputs": [
    {
     "name": "stdout",
     "output_type": "stream",
     "text": [
      "goal = 0.0498\n",
      "r = 141 mit lhs = 0.0480\n"
     ]
    }
   ],
   "source": [
    "goal = 10**-4 * X2\n",
    "print(f'goal = {goal:.4f}')\n",
    "\n",
    "for i in range(1, m + 1):\n",
    "    lhs = sigma(i + 1)\n",
    "    if lhs <= goal:\n",
    "        print(f'r = {i} mit lhs = {lhs:.4f}')\n",
    "        break"
   ]
  },
  {
   "cell_type": "markdown",
   "metadata": {},
   "source": [
    "## Totale Varianz\n",
    "\n",
    "$$\n",
    "T = \\frac{1}{n - 1} \\Vert \\hat{X} \\Vert_F^2 = \\frac{1}{n - 1} \\sum_{j=1}^\\ell \\sigma_j^2\n",
    "$$"
   ]
  },
  {
   "cell_type": "code",
   "execution_count": 23,
   "metadata": {},
   "outputs": [
    {
     "name": "stdout",
     "output_type": "stream",
     "text": [
      "T = 99.8466\n"
     ]
    }
   ],
   "source": [
    "sigmas = np.array(sigmas)\n",
    "XF = np.sum(sigmas ** 2)\n",
    "T = 1 / (n - 1) * XF\n",
    "print(f'T = {T:.4f}')"
   ]
  },
  {
   "cell_type": "markdown",
   "metadata": {},
   "source": [
    "## Prozent in PCA\n",
    "\n",
    "> Wie viel $\\%$ der Totalen Varianz liegen in den ersten $3$ PCA-Hauptkomponenten?\n",
    "\n",
    "$$\n",
    "\\frac{\\frac{1}{n - 1} \\sum_{j=1}^{{\\color{red} q} \\le \\ell} \\sigma_j^2}{T} \n",
    "= \\frac{\\sum_{j=1}^{{\\color{red} q}}}{\\sum_{j=1}^{\\ell} \\sigma_j^2}\n",
    "\\le \\operatorname{Tol} < 1\n",
    "$$"
   ]
  },
  {
   "cell_type": "code",
   "execution_count": 28,
   "metadata": {},
   "outputs": [
    {
     "name": "stdout",
     "output_type": "stream",
     "text": [
      "55.9554%\n"
     ]
    }
   ],
   "source": [
    "q = 3\n",
    "\n",
    "Tp = 1 / (n - 1) * np.sum(sigmas[:q] ** 2) / T * 100\n",
    "print(f'{Tp:.4f}%')"
   ]
  }
 ],
 "metadata": {
  "kernelspec": {
   "display_name": ".venv",
   "language": "python",
   "name": "python3"
  },
  "language_info": {
   "codemirror_mode": {
    "name": "ipython",
    "version": 3
   },
   "file_extension": ".py",
   "mimetype": "text/x-python",
   "name": "python",
   "nbconvert_exporter": "python",
   "pygments_lexer": "ipython3",
   "version": "3.12.4"
  }
 },
 "nbformat": 4,
 "nbformat_minor": 2
}
