{
 "cells": [
  {
   "cell_type": "markdown",
   "metadata": {},
   "source": [
    "# Neuronale Netzwerke\n",
    "\n",
    "> Gegeben sie ein Datensatz $(\\mathbf{x}_i, y_i), ~i=1,\\ldots,n$ mit\n",
    "> $y\\in\\mathbb{N}, ~\\mathbf{x}\\in\\mathbb{R}^\\ell, ~\\ell=12$ für den ein\n",
    "> Klassifikationsalgorithmus $y_i \\approx p(\\mathbf{x}_i)$ erstellt werden soll.\n",
    "> \n",
    "> Dazu soll ein künstliches neuronales Netz gemäß folgendem Schema benutzt werden:\n",
    "> \n",
    "> <img src=\"./assets/knn.png\" alt=\"Metriken\" width=600>\n",
    "> \n",
    "> - Wie viele versteckte Schichten (*hidden layer*) hat das Netzwerk?\n",
    "> - Wie viele Schichten hat das Netzwerk insgesamt?\n",
    "> \n",
    "> Bei den Layern soll es sich nun um die üblichen *fully-connected layer* mit\n",
    "> ReLU-Aktivierung handeln. Wie viele Gewichte und Bias-Werte müssen für dieses\n",
    "> Netzwerk insgesamt trainiert werden?"
   ]
  },
  {
   "cell_type": "code",
   "execution_count": 7,
   "metadata": {},
   "outputs": [],
   "source": [
    "ell = 12\n",
    "layers = [ell, 10, 15, 10, 8, 1]"
   ]
  },
  {
   "cell_type": "code",
   "execution_count": 15,
   "metadata": {},
   "outputs": [
    {
     "name": "stdout",
     "output_type": "stream",
     "text": [
      "12 * 10 + 10\n",
      "10 * 15 + 15\n",
      "15 * 10 + 10\n",
      "10 * 8 + 8\n",
      "8 * 1 + 1\n",
      "==> 552\n"
     ]
    }
   ],
   "source": [
    "no_layers = 0\n",
    "\n",
    "for i in range(1, len(layers)):\n",
    "    l = layers[i]\n",
    "    no_layers += layers[i - 1] * l + l\n",
    "    print(f'{layers[i - 1]} * {l} + {l}')\n",
    "\n",
    "print('==>', no_layers)"
   ]
  }
 ],
 "metadata": {
  "kernelspec": {
   "display_name": ".venv",
   "language": "python",
   "name": "python3"
  },
  "language_info": {
   "codemirror_mode": {
    "name": "ipython",
    "version": 3
   },
   "file_extension": ".py",
   "mimetype": "text/x-python",
   "name": "python",
   "nbconvert_exporter": "python",
   "pygments_lexer": "ipython3",
   "version": "3.12.4"
  }
 },
 "nbformat": 4,
 "nbformat_minor": 2
}
