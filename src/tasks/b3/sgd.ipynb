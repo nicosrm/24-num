{
 "cells": [
  {
   "cell_type": "markdown",
   "metadata": {},
   "source": [
    "# Stochastisches Gradientenverfahren\n",
    "\n",
    "> Gegen seien die folgenden Daten\n",
    "> \n",
    "> - $x_{1,i} = [3,5,7,3,−1,4]$\n",
    "> - $x_{2,i} = [1,1,−2,−2,−1,0]$\n",
    "> - $y_i = [20,27,2,3,0,18]$\n",
    "> \n",
    "> Es soll mit der kleinste-Quadrate-Methode die Parameter für eine Funktion der\n",
    "> Form\n",
    "> \n",
    "> $$y = p(x_1, x_2) = w_0 + w_1x_1 + w_2x_2 + w_3x_1x_2$$\n",
    "> \n",
    "> bestimmt werden.\n",
    "> \n",
    "> Führen Sie dazu 1 Epoche des SGD mit Schrittweite $\\alpha = 0.01$ aus. Benutzen\n",
    "> Sie den Startvektor $\\mathbf{w}^{(0)} = [4~3~2~0]^\\intercal$ und verwenden Sie\n",
    "> die Reihenfolge $[j_1,j_2,\\ldots,j_n] = [4,3,6,1,5,2]$ der Beobachtungen.\n",
    "> \n",
    "> Gesucht sind die resultierenden Gewichte."
   ]
  },
  {
   "cell_type": "code",
   "execution_count": 1,
   "metadata": {},
   "outputs": [],
   "source": [
    "import numpy as np\n",
    "np.set_printoptions(precision=4, suppress=True)\n",
    "\n",
    "x1 = np.array([3,5,7,3,-1,4])\n",
    "x2 = np.array([1,1,-2,-2,-1,0])\n",
    "y = np.array([20,27,2,3,0,18])\n",
    "\n",
    "w0 = np.array([4, 3, 2, 0])\n",
    "alpha = 0.01\n",
    "\n",
    "j = [4, 3, 6, 1, 5, 2]"
   ]
  },
  {
   "cell_type": "code",
   "execution_count": 2,
   "metadata": {},
   "outputs": [
    {
     "name": "stdout",
     "output_type": "stream",
     "text": [
      "[[  1.   3.   1.   3.]\n",
      " [  1.   5.   1.   5.]\n",
      " [  1.   7.  -2. -14.]\n",
      " [  1.   3.  -2.  -6.]\n",
      " [  1.  -1.  -1.   1.]\n",
      " [  1.   4.   0.   0.]]\n"
     ]
    }
   ],
   "source": [
    "n = y.size\n",
    "\n",
    "# Ausgleichsmatrix\n",
    "A = np.vstack([np.ones(n), x1, x2, x1 * x2]).T\n",
    "print(A)"
   ]
  },
  {
   "cell_type": "code",
   "execution_count": 3,
   "metadata": {},
   "outputs": [],
   "source": [
    "def gradient(w, X, y):\n",
    "    y_hat = X @ w\n",
    "    return X.T @ (y_hat - y)\n",
    "\n",
    "def sgd(w0, X, y, grad_fun, max_it, rate, perm=None):\n",
    "    w = w0\n",
    "    n = X.shape[0]\n",
    "    \n",
    "    for k in range(max_it):\n",
    "        idx = perm or np.random.permutation(n)\n",
    "        print(k + 1, 'idx:', idx)\n",
    "\n",
    "        for i in idx:\n",
    "            xi = np.array([X[i - 1]])\n",
    "            yi = np.array([y[i - 1]])\n",
    "            grad = grad_fun(w, xi, yi)\n",
    "            w = w - rate * grad\n",
    "        print(k + 1, 'W:', w)\n",
    "    \n",
    "    return w"
   ]
  },
  {
   "cell_type": "code",
   "execution_count": 4,
   "metadata": {},
   "outputs": [
    {
     "name": "stdout",
     "output_type": "stream",
     "text": [
      "1 idx: [4, 3, 6, 1, 5, 2]\n",
      "1 W: [3.8639 2.1947 2.3801 2.0556]\n"
     ]
    }
   ],
   "source": [
    "W = sgd(w0, A, y, grad_fun=gradient, max_it=1, rate=alpha, perm=j)"
   ]
  }
 ],
 "metadata": {
  "kernelspec": {
   "display_name": ".venv",
   "language": "python",
   "name": "python3"
  },
  "language_info": {
   "codemirror_mode": {
    "name": "ipython",
    "version": 3
   },
   "file_extension": ".py",
   "mimetype": "text/x-python",
   "name": "python",
   "nbconvert_exporter": "python",
   "pygments_lexer": "ipython3",
   "version": "3.12.4"
  }
 },
 "nbformat": 4,
 "nbformat_minor": 2
}
