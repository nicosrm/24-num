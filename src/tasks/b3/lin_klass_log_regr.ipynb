{
 "cells": [
  {
   "cell_type": "markdown",
   "metadata": {},
   "source": [
    "# Lineare Klassifikation und logistische Regression\n",
    "\n",
    "Gegeben seien folgende Daten:\n",
    "\n",
    "$$\n",
    "\\begin{aligned}\n",
    "    x_{1,i} &= [1,4,7,6,1,5] \\\\\n",
    "    𝑥_{2,i} &= [2,8,14,10,0,9] \\\\\n",
    "    y_i &= [0,1,1,0,1,0] \\\\\n",
    "\\end{aligned}\n",
    "$$"
   ]
  },
  {
   "cell_type": "code",
   "execution_count": 32,
   "metadata": {},
   "outputs": [],
   "source": [
    "import numpy as np\n",
    "np.set_printoptions(precision=4, suppress=True)\n",
    "\n",
    "x1 = np.array([4,9,5,5,0,9])\n",
    "x2 = np.array([1,9,5,4,-2,7])\n",
    "y = np.array([1,0,0,1,1,0])"
   ]
  },
  {
   "cell_type": "code",
   "execution_count": 33,
   "metadata": {},
   "outputs": [
    {
     "data": {
      "image/png": "[encoded data removed]",
      "text/plain": [
       "<Figure size 640x480 with 1 Axes>"
      ]
     },
     "metadata": {},
     "output_type": "display_data"
    }
   ],
   "source": [
    "import matplotlib.pyplot as plt\n",
    "\n",
    "plt.scatter(x1, x2, c=y, cmap='bwr')\n",
    "plt.show()"
   ]
  },
  {
   "cell_type": "markdown",
   "metadata": {},
   "source": [
    "## Aufgabe 1: Lineare Klassifikation mittels kleinste-Quadrate\n",
    "\n",
    "Berechnen Sie mittels kleinste-Quadrate-Rechnung eine **lineare Klassifikation**\n",
    "der Form\n",
    "\n",
    "$$\n",
    "\\hat{y} = h\\left( p\\left( x_1, x_2\\right)\\right) \\newline\n",
    "p\\left(x_1,x_2\\right) = w_0 + w_1 x_1 + w_2 x_2 \\text{ mit }\n",
    "h\\left(z\\right) = \\begin{cases} 1 &, z\\ge 0.5 \\\\ 0 &, z < 0.5 \\end{cases}\n",
    "$$\n",
    "\n",
    "und geben Sie die Funktionsgleichung der Entscheidungsgrenze\n",
    "$x_2 = \\ldots \\cdot x_1 + \\ldots$ an."
   ]
  },
  {
   "cell_type": "markdown",
   "metadata": {},
   "source": [
    "### Gewichte"
   ]
  },
  {
   "cell_type": "code",
   "execution_count": 34,
   "metadata": {},
   "outputs": [
    {
     "name": "stdout",
     "output_type": "stream",
     "text": [
      "[[ 1.  4.  1.]\n",
      " [ 1.  9.  9.]\n",
      " [ 1.  5.  5.]\n",
      " [ 1.  5.  4.]\n",
      " [ 1.  0. -2.]\n",
      " [ 1.  9.  7.]]\n"
     ]
    }
   ],
   "source": [
    "n = y.shape[0]\n",
    "A = np.vstack([np.ones(n), x1, x2]).T\n",
    "print(A)"
   ]
  },
  {
   "cell_type": "code",
   "execution_count": 35,
   "metadata": {},
   "outputs": [
    {
     "name": "stdout",
     "output_type": "stream",
     "text": [
      "[ 0.806   0.0691 -0.1687]\n"
     ]
    }
   ],
   "source": [
    "W = np.linalg.lstsq(A, y, rcond=None)[0]\n",
    "print(W)"
   ]
  },
  {
   "cell_type": "code",
   "execution_count": 6,
   "metadata": {},
   "outputs": [],
   "source": [
    "theta = 0.5\n",
    "\n",
    "def predict(X):\n",
    "    z = X @ W\n",
    "    y_hat = np.zeros(X.shape[0])\n",
    "    y_hat[z >= theta] = 1\n",
    "    return y_hat"
   ]
  },
  {
   "cell_type": "code",
   "execution_count": 8,
   "metadata": {},
   "outputs": [
    {
     "data": {
      "image/png": "[encoded data removed]",
      "text/plain": [
       "<Figure size 640x480 with 2 Axes>"
      ]
     },
     "metadata": {},
     "output_type": "display_data"
    }
   ],
   "source": [
    "import sklearn.metrics\n",
    "\n",
    "y_hat = predict(A)\n",
    "_ = sklearn.metrics.ConfusionMatrixDisplay.from_predictions(y, y_hat)"
   ]
  },
  {
   "cell_type": "markdown",
   "metadata": {},
   "source": [
    "### Entscheidungsgrenze\n",
    "\n",
    "$$\n",
    "\\begin{aligned}\n",
    "    B &= \\{ \\mathbf{x} \\in \\mathbb{R}^\\ell ~|~ \\mathbf{x}^{\\operatorname{T}}\n",
    "        \\mathbf{w} = b + w_1x_1 + w_2x_2 + \\ldots + w_\\ell x_\\ell = \\theta \\} \\\\\n",
    "\n",
    "    \\Rightarrow \\theta &= p(\\mathbf{x}) = w_0 + w_1x_1 + w_2x_2 \\\\\n",
    "\\end{aligned}\n",
    "$$"
   ]
  },
  {
   "cell_type": "code",
   "execution_count": 36,
   "metadata": {},
   "outputs": [
    {
     "data": {
      "text/plain": [
       "[0.409836065573771*x1 + 1.81420765027323]"
      ]
     },
     "execution_count": 36,
     "metadata": {},
     "output_type": "execute_result"
    }
   ],
   "source": [
    "from sympy import Eq, symbols, solve\n",
    "\n",
    "s_x1, s_x2, s_y = symbols('x1 x2 y')\n",
    "eqn = Eq(W[0] + W[1] * s_x1 + W[2] * s_x2, theta)\n",
    "\n",
    "solve(eqn, s_x2)"
   ]
  },
  {
   "cell_type": "markdown",
   "metadata": {},
   "source": [
    "## Aufgabe 2: Logistische Regression\n",
    "\n",
    "Nun soll eine logistische Regression durchgeführt werden. Ein Prädiktor\n",
    "\n",
    "$$\n",
    "\\hat{y} = \\begin{cases} 1 &,~\\phi\\ge0.5 \\\\ 0 &,~\\phi<0.5 \\end{cases}\n",
    "$$\n",
    "\n",
    "wird mittels einem Klassifikationsmodell der Form\n",
    "\n",
    "$$\n",
    "\\phi = \\phi\\left( p\\left( x_1, x_2\\right)\\right) \\newline\n",
    "p(x_1,x_2) = w_0 + w_1x_1 + w_2x_2 \\text{ mit } \\phi(z) = \\operatorname{Sigmoid}\n",
    "$$\n",
    "\n",
    "berechnet. Dazu muss die *gemittelte* Cross-Entropie als Zielfunktion minimiert\n",
    "werden.\n",
    "\n",
    "Führen Sie für diese Aufgabe 5 Schritte des Gradienten-Abstiegs-Verfahrens mit\n",
    "Schrittweite $\\alpha = 0.1$ aus. Benutzen Sie den Startvektor\n",
    "$\\mathbf{w}^{(0)} = [-1, 0, 0]^\\intercal$."
   ]
  },
  {
   "cell_type": "markdown",
   "metadata": {},
   "source": [
    "*gemittelte Cross-Entropie* (V8, F3)\n",
    "\n",
    "$$\n",
    "f\\left(\\mathbf{x}\\right) = -\\frac1n \\sum_{j=1}^n \\left(\n",
    "    y_j \\ln \\phi\\left(p\\left(\\mathbf{x}_j\\right)\\right) +\n",
    "    \\left(1 - y_j\\right) \\ln \\left(1  \\phi\\left(p\\left(\\mathbf{x}_j\\right)\\right)\\right)\n",
    "\\right) \\to \\min\n",
    "$$"
   ]
  },
  {
   "cell_type": "code",
   "execution_count": 37,
   "metadata": {},
   "outputs": [],
   "source": [
    "alpha = 0.1\n",
    "w0 = np.array([-1, 0, 0])\n",
    "max_it = 5"
   ]
  },
  {
   "cell_type": "code",
   "execution_count": 38,
   "metadata": {},
   "outputs": [],
   "source": [
    "# V8 F8\n",
    "def sigmoid(z):\n",
    "    positives = z >= 0\n",
    "    negatives = ~positives\n",
    "    \n",
    "    y = z.copy()\n",
    "    y[positives] = 1 / (1 + np.exp(-z[positives]))\n",
    "    \n",
    "    exp_z_neg = np.exp(z[negatives])\n",
    "    y[negatives] = exp_z_neg / (1 + exp_z_neg)\n",
    "    \n",
    "    return y\n",
    "\n",
    "# V8 F3+8 / `V8_Klassifikation-Bsp.ipynb`\n",
    "def cost_fun_cross_entropy(w, X, y):\n",
    "    z = X @ w\n",
    "    n = X.shape[0]\n",
    "    p = sigmoid(z)\n",
    "    \n",
    "    pos = y==1\n",
    "    neg = ~pos\n",
    "    \n",
    "    s1 = y[pos] * np.log(p[pos])\n",
    "    s2 = (1 - y[neg]) * np.log(1 - p[neg])\n",
    "    \n",
    "    return -s1.sum() / n - s2.sum() / n\n",
    "\n",
    "# V8 F6\n",
    "def gradient(w, X, y):\n",
    "    z = X @ w\n",
    "    p = sigmoid(z)\n",
    "    n = X.shape[0]\n",
    "    return X.T @ (p - y) / n"
   ]
  },
  {
   "cell_type": "code",
   "execution_count": 39,
   "metadata": {},
   "outputs": [],
   "source": [
    "# V8 F7\n",
    "def gd(w0, X, y, grad_fun, cost_fun, alpha, max_it):\n",
    "    w = w0\n",
    "    norm_grad = np.zeros(max_it)\n",
    "    loss = np.zeros(max_it)\n",
    "    n = X.shape[0]\n",
    "    \n",
    "    for k in range(max_it):\n",
    "        grad = grad_fun(w, X, y)\n",
    "        norm_grad[k] = np.linalg.norm(grad) / n\n",
    "        loss[k] = cost_fun(w, X, y)\n",
    "        w = w - alpha * grad\n",
    "    \n",
    "    return w, norm_grad, loss"
   ]
  },
  {
   "cell_type": "code",
   "execution_count": 40,
   "metadata": {},
   "outputs": [
    {
     "name": "stdout",
     "output_type": "stream",
     "text": [
      "[-0.8781  0.119  -0.1946]\n"
     ]
    }
   ],
   "source": [
    "W_log, norm_grad, loss = gd(w0=w0, X=A, y=y,\n",
    "                            grad_fun=gradient,\n",
    "                            cost_fun=cost_fun_cross_entropy,\n",
    "                            alpha=alpha, max_it=max_it)\n",
    "print(W_log)"
   ]
  },
  {
   "cell_type": "code",
   "execution_count": 41,
   "metadata": {},
   "outputs": [
    {
     "name": "stdout",
     "output_type": "stream",
     "text": [
      "W     [-0.8781  0.119  -0.1946]\n",
      "||g|| [0.104  0.089  0.0858 0.0832 0.0807]\n",
      "f     [0.8133 0.7805 0.7526 0.7265 0.702 ]\n"
     ]
    }
   ],
   "source": [
    "print('W    ', W_log)\n",
    "print('||g||', norm_grad)\n",
    "print('f    ', loss)"
   ]
  }
 ],
 "metadata": {
  "kernelspec": {
   "display_name": ".venv",
   "language": "python",
   "name": "python3"
  },
  "language_info": {
   "codemirror_mode": {
    "name": "ipython",
    "version": 3
   },
   "file_extension": ".py",
   "mimetype": "text/x-python",
   "name": "python",
   "nbconvert_exporter": "python",
   "pygments_lexer": "ipython3",
   "version": "3.12.4"
  }
 },
 "nbformat": 4,
 "nbformat_minor": 2
}
