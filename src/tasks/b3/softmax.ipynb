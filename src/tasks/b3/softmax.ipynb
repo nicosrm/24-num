{
 "cells": [
  {
   "cell_type": "markdown",
   "metadata": {},
   "source": [
    "# Softmax\n",
    "\n",
    "> Sei\n",
    "> \n",
    "> $$\n",
    "> \\mathbf{z} = \\mathbf{W} \\begin{bmatrix} 1 \\\\ \\mathbf{x} \\end{bmatrix}\n",
    "> \\text{ mit }\n",
    "> \\mathbf{W} = \\begin{bmatrix}\n",
    ">     b_1 &w_{1,1} &w_{1,2} \\\\\n",
    ">     b_2 &w_{2,1} &w_{2,2} \\\\\n",
    ">     b_3 &w_{3,1} &w_{3,2} \\\\\n",
    ">     b_4 &w_{4,1} &w_{4,2}\n",
    "> \\end{bmatrix} = \\frac{1}{10} \\begin{bmatrix}\n",
    ">     1 &5 &-2 \\\\\n",
    ">     3 &0 &2 \\\\\n",
    ">     2 &1 &0 \\\\\n",
    ">     -1 &3 &2\n",
    "> \\end{bmatrix}\n",
    "> $$\n",
    "> \n",
    "> das Argument für die Softmax-Aktivierungsfunktion $\\mathbf{\\phi}(\\mathbf{z})$\n",
    "> zur multinomiellen Klassifikation ($y \\in \\{1,\\ldots,K\\}$).\n",
    "> \n",
    "> - Um wieviele Klassen handelt es sich hier? $K = \\ldots$\n",
    "> - Die Beobachtung $\\mathbf{x} = [2~4]^\\intercal$ wird durch $\\mathbf{\\phi}$\n",
    ">   in die Klasse ... eingeteilt mit Wahrscheinlichkeit ...\n",
    "> \n",
    "> **Hinweis**: Sollte die Entscheidung nicht eindeutig sein, nehmen Sie die erste\n",
    "> Instanz."
   ]
  },
  {
   "cell_type": "code",
   "execution_count": 1,
   "metadata": {},
   "outputs": [],
   "source": [
    "import numpy as np\n",
    "np.set_printoptions(precision=4, suppress=True)\n",
    "\n",
    "W = np.array([[1,  5, -2],\n",
    "              [3,  0,  2],\n",
    "              [2,  1,  0],\n",
    "              [-1, 3,  2]])\n",
    "W = W / 10\n",
    "x = np.array([2, 4])"
   ]
  },
  {
   "cell_type": "markdown",
   "metadata": {},
   "source": [
    "## Anzahl Klassen\n",
    "\n",
    "$\\mathbf{W}$ hat 4 Zeilen $\\Rightarrow$ 4 Klassen $\\Rightarrow K=4$"
   ]
  },
  {
   "cell_type": "markdown",
   "metadata": {},
   "source": [
    "## Berechnung Zuordnung und WK"
   ]
  },
  {
   "cell_type": "markdown",
   "metadata": {},
   "source": [
    "$$\n",
    "\\text{Soft-Max:}~\\mathbf{\\phi}(\\mathbf{z}) =\n",
    "    \\begin{bmatrix} \\phi_1(z_1) \\\\ \\vdots \\\\ \\phi_K(z_K) \\end{bmatrix}\n",
    "    ~:~ \\mathbb{R}^k \\mapsto [0,1]^k \\newline\n",
    "\\text{mit}~\\phi_i = \\frac{\\operatorname{e}^{z_i}}{\\sum_{j=1}^K e^{z_j}},~\n",
    "    i = 1,\\ldots,K \\ge 2\n",
    "$$"
   ]
  },
  {
   "cell_type": "code",
   "execution_count": 2,
   "metadata": {},
   "outputs": [],
   "source": [
    "def softmax(z):\n",
    "    K = z.shape[0]\n",
    "    val = np.ones(K)\n",
    "    \n",
    "    denominator = np.sum(np.exp(z))\n",
    "    \n",
    "    for i in range(K):\n",
    "        val[i] = np.exp(z[i]) / denominator\n",
    "    \n",
    "    return val"
   ]
  },
  {
   "cell_type": "code",
   "execution_count": 3,
   "metadata": {},
   "outputs": [
    {
     "name": "stdout",
     "output_type": "stream",
     "text": [
      "[0.3 1.1 0.4 1.3]\n"
     ]
    }
   ],
   "source": [
    "z = W @ np.hstack([np.ones(1), x])\n",
    "print(z)"
   ]
  },
  {
   "cell_type": "code",
   "execution_count": 4,
   "metadata": {},
   "outputs": [
    {
     "name": "stdout",
     "output_type": "stream",
     "text": [
      "softmax(z) = [0.1419 0.3157 0.1568 0.3856]\n",
      "Zuordnung zu Klasse 4 mit WK 0.3856\n"
     ]
    }
   ],
   "source": [
    "sm_z = softmax(z)\n",
    "print(f'softmax(z) = {sm_z}')\n",
    "\n",
    "class_idx = np.argmax(sm_z)\n",
    "print(f'Zuordnung zu Klasse {class_idx + 1} mit WK {sm_z[class_idx]:.4f}')"
   ]
  }
 ],
 "metadata": {
  "kernelspec": {
   "display_name": ".venv",
   "language": "python",
   "name": "python3"
  },
  "language_info": {
   "codemirror_mode": {
    "name": "ipython",
    "version": 3
   },
   "file_extension": ".py",
   "mimetype": "text/x-python",
   "name": "python",
   "nbconvert_exporter": "python",
   "pygments_lexer": "ipython3",
   "version": "3.12.4"
  }
 },
 "nbformat": 4,
 "nbformat_minor": 2
}
