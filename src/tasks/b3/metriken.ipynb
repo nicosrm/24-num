{
 "cells": [
  {
   "cell_type": "markdown",
   "metadata": {},
   "source": [
    "# Bewertungskriterien Klassifikation\n",
    "\n",
    "Eine Verkehrsüberwachungssoftware soll um einen Klassifikations-Algorithmus\n",
    "ergänzt werden, um automatisch Fahrradfahrer von Autos zu unterscheiden. Der\n",
    "Klassifikations-Algorithmus wurde dazu auf $n_\\text{train}=2000$ Bildern von\n",
    "Fahrrädern und Autos trainiert. Die Anwendung des fertigen Algorithmus auf einen\n",
    "Test-Datensatz ergab folgende Confusionsmatrix:\n",
    "\n",
    "<table><thead>\n",
    "  <tr>\n",
    "    <th colspan=\"2\" rowspan=\"2\"></th>\n",
    "    <th colspan=\"2\">Algorithmus<br></th>\n",
    "  </tr>\n",
    "  <tr>\n",
    "    <th><strong>Fahrrad</strong></th>\n",
    "    <th><strong>Auto</strong></th>\n",
    "  </tr></thead>\n",
    "<tbody>\n",
    "  <tr>\n",
    "    <td rowspan=\"2\"><strong>Tatsächlich</strong></td>\n",
    "    <td><strong>Fahrrad</strong></td>\n",
    "    <td>400</td>\n",
    "    <td>60</td>\n",
    "  </tr>\n",
    "  <tr>\n",
    "    <td><strong>Auto</strong></td>\n",
    "    <td>60</td>\n",
    "    <td>200</td>\n",
    "  </tr>\n",
    "</tbody>\n",
    "</table>\n",
    "\n",
    "Berechnen Sie\n",
    "- den Umfang der Test-Daten $n_\\text{test}$\n",
    "- die erreichte Genauigkeit, Präzision, Recall und $F_1$-Score\n",
    "\n",
    "Berechnen Sie außerdem\n",
    "- die True-Positive-Rate (Anteil der korrekt klassifizierten Fahrradbildern\n",
    "  unter allen Fahrradbildern)\n",
    "- die False-Positive-Rate (Anteil der als Fahrrad klassifizierten Bildern unter\n",
    "  allen Autobildern)\n",
    "- die True-Negative- und False-Negative-Rate (analog)."
   ]
  },
  {
   "cell_type": "code",
   "execution_count": 1,
   "metadata": {},
   "outputs": [],
   "source": [
    "TP = 400\n",
    "FN = 60\n",
    "FP = 60\n",
    "TN = 200"
   ]
  },
  {
   "cell_type": "code",
   "execution_count": 2,
   "metadata": {},
   "outputs": [
    {
     "name": "stdout",
     "output_type": "stream",
     "text": [
      "Umfang Test-Daten: 720\n"
     ]
    }
   ],
   "source": [
    "n_test = TP + FN + FP + TN\n",
    "print(f'Umfang Test-Daten: {n_test}')"
   ]
  },
  {
   "cell_type": "markdown",
   "metadata": {},
   "source": [
    "$$\n",
    "\\begin{aligned}\n",
    "    \\text{Genauigkeit } &= \\frac{\\text{TP} + \\text{TN}}{n} \\\\\n",
    "    \\text{Präzision } &= \\frac{\\text{TP}}{\\text{TP} + \\text{FP}} \\\\\n",
    "    \\text{Recall } &= \\frac{\\text{TP}}{\\text{TP} + \\text{FN}} \\\\\n",
    "    F_1 &= \\frac{2 \\cdot \\text{Präzision} \\cdot \\text{Recall}}{\n",
    "        \\text{Präzision} + \\text{Recall}}\n",
    "\\end{aligned}\n",
    "$$"
   ]
  },
  {
   "cell_type": "code",
   "execution_count": 3,
   "metadata": {},
   "outputs": [
    {
     "name": "stdout",
     "output_type": "stream",
     "text": [
      "acc: 0.8333\n",
      "prec: 0.8696\n",
      "recall: 0.8696\n",
      "f1: 0.8696\n"
     ]
    }
   ],
   "source": [
    "acc = (TP + TN) / n_test\n",
    "print(f'acc: {acc:.4f}')\n",
    "\n",
    "prec = TP / (TP + FP)\n",
    "print(f'prec: {prec:.4f}')\n",
    "\n",
    "recall = TP / (TP + FN)\n",
    "print(f'recall: {recall:.4f}')\n",
    "\n",
    "f1 = 2 * prec * recall / (prec + recall)\n",
    "print(f'f1: {f1:.4f}')"
   ]
  },
  {
   "cell_type": "markdown",
   "metadata": {},
   "source": [
    "<img src=\"./assets/metriken.png\" alt=\"Metriken\" width=500>"
   ]
  },
  {
   "cell_type": "code",
   "execution_count": 4,
   "metadata": {},
   "outputs": [
    {
     "name": "stdout",
     "output_type": "stream",
     "text": [
      "true_positive_rate: 0.8696\n",
      "false_positive_rate: 0.2308\n",
      "true_negative_rate: 0.7692\n",
      "false_negative_rate: 0.1304\n"
     ]
    }
   ],
   "source": [
    "# Anteil der korrekten klassifizierten Fahrradbilder unter allen Fahrradbildern\n",
    "true_positive_rate = TP / (TP + FN)\n",
    "print(f'true_positive_rate: {true_positive_rate:.4f}')\n",
    "\n",
    "# Anteil der als Fahrrad klassifizierten Bilder unter allen Autobildern\n",
    "false_positive_rate = FP / (FP + TN)\n",
    "print(f'false_positive_rate: {false_positive_rate:.4f}')\n",
    "\n",
    "# Anteil der korrekten klassifizierten Autobilder und allen Autobildern\n",
    "true_negative_rate = TN / (FP + TN)\n",
    "print(f'true_negative_rate: {true_negative_rate:.4f}')\n",
    "\n",
    "# Anteil der als Auto klassifizierten Bilder unter allen Fahrradbildern\n",
    "false_negative_rate = FN / (TP + FN)\n",
    "print(f'false_negative_rate: {false_negative_rate:.4f}')"
   ]
  }
 ],
 "metadata": {
  "kernelspec": {
   "display_name": ".venv",
   "language": "python",
   "name": "python3"
  },
  "language_info": {
   "codemirror_mode": {
    "name": "ipython",
    "version": 3
   },
   "file_extension": ".py",
   "mimetype": "text/x-python",
   "name": "python",
   "nbconvert_exporter": "python",
   "pygments_lexer": "ipython3",
   "version": "3.12.4"
  }
 },
 "nbformat": 4,
 "nbformat_minor": 2
}
