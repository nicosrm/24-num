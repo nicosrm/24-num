{
 "cells": [
  {
   "cell_type": "markdown",
   "metadata": {},
   "source": [
    "# Aufgabe 1: SVD & PCA\n",
    "\n",
    "$$\n",
    "\\mathbf{X}\\in\\R^{1000\\times30}~\\text{mit}~\\sigma_j = \\begin{cases} 2^8-j &,~j=1,\\ldots,20 \\\\ 0 &,~j>20\\end{cases}\n",
    "$$"
   ]
  },
  {
   "cell_type": "code",
   "execution_count": 1,
   "metadata": {},
   "outputs": [],
   "source": [
    "import math\n",
    "import numpy as np\n",
    "import sympy\n",
    "\n",
    "np.set_printoptions(precision=4, suppress=True)"
   ]
  },
  {
   "cell_type": "code",
   "execution_count": 2,
   "metadata": {},
   "outputs": [
    {
     "name": "stdout",
     "output_type": "stream",
     "text": [
      "[128.      64.      32.      16.       8.       4.       2.       1.\n",
      "   0.5      0.25     0.125    0.0625   0.0312   0.0156   0.0078   0.0039\n",
      "   0.002    0.001    0.0005   0.0002   0.       0.       0.       0.\n",
      "   0.       0.       0.       0.       0.       0.    ]\n"
     ]
    }
   ],
   "source": [
    "sigma = []\n",
    "\n",
    "for j in range(1, 20+1):\n",
    "    sigma.append(2 ** (8 - j))\n",
    "\n",
    "sigma = np.concatenate((sigma, np.zeros(10)))\n",
    "print(sigma)"
   ]
  },
  {
   "cell_type": "markdown",
   "metadata": {},
   "source": [
    "## 2- und Frobenius-Norm"
   ]
  },
  {
   "cell_type": "code",
   "execution_count": 3,
   "metadata": {},
   "outputs": [
    {
     "name": "stdout",
     "output_type": "stream",
     "text": [
      "X_2 = 128.0\n"
     ]
    }
   ],
   "source": [
    "X_2 = np.max(sigma)\n",
    "print(f'X_2 = {X_2}')"
   ]
  },
  {
   "cell_type": "code",
   "execution_count": 4,
   "metadata": {},
   "outputs": [
    {
     "name": "stdout",
     "output_type": "stream",
     "text": [
      "X_F = sqrt(21845.3333) = 147.8017\n"
     ]
    }
   ],
   "source": [
    "X_F = sum((2 ** (8 - j))**2 for j in range(1, 20+1))\n",
    "print(f'X_F = sqrt({X_F:.4f})', end=' ')\n",
    "X_F = np.sqrt(X_F)\n",
    "\n",
    "# alternativ\n",
    "# X_F = np.sqrt(2**16 * 1/4 * ((1/4)**20 - 1) / (1/4 - 1))\n",
    "\n",
    "print(f'= {X_F:.4f}')"
   ]
  },
  {
   "cell_type": "markdown",
   "metadata": {},
   "source": [
    "## Effektive Konditionszahl $\\kappa_2(\\mathbf{X})$\n",
    "\n",
    "$$\n",
    "\\kappa_2(\\mathbf{X}) = \\frac{\\max \\sigma_j}{\\min \\sigma_j}~\\text{mit}~\\sigma_j\\ne0\n",
    "$$"
   ]
  },
  {
   "cell_type": "code",
   "execution_count": 5,
   "metadata": {},
   "outputs": [
    {
     "name": "stdout",
     "output_type": "stream",
     "text": [
      "cond2(X) = 524288.0\n"
     ]
    }
   ],
   "source": [
    "sigma_non_zero = sigma[np.nonzero(sigma)]\n",
    "cond2_X = np.max(sigma_non_zero) / np.min(sigma_non_zero)\n",
    "print(f'cond2(X) = {cond2_X}')"
   ]
  },
  {
   "cell_type": "markdown",
   "metadata": {},
   "source": [
    "## Exakter Rang"
   ]
  },
  {
   "cell_type": "code",
   "execution_count": 6,
   "metadata": {},
   "outputs": [
    {
     "data": {
      "text/plain": [
       "20"
      ]
     },
     "execution_count": 6,
     "metadata": {},
     "output_type": "execute_result"
    }
   ],
   "source": [
    "sigma_non_zero.shape[0]"
   ]
  },
  {
   "cell_type": "markdown",
   "metadata": {},
   "source": [
    "## Numerischer Rang\n",
    "\n",
    "in Single Precision ($\\texttt{eps} = 1.19209 \\cdot 10^{-7}$)"
   ]
  },
  {
   "cell_type": "code",
   "execution_count": 7,
   "metadata": {},
   "outputs": [
    {
     "data": {
      "text/plain": [
       "0.0153"
      ]
     },
     "execution_count": 7,
     "metadata": {},
     "output_type": "execute_result"
    }
   ],
   "source": [
    "eps = 1.19209 * 10**(-7)\n",
    "val = sigma[0] * 1000 * eps\n",
    "round(val, 4)"
   ]
  },
  {
   "cell_type": "code",
   "execution_count": 8,
   "metadata": {},
   "outputs": [
    {
     "name": "stdout",
     "output_type": "stream",
     "text": [
      "rank_ε = 14\n"
     ]
    }
   ],
   "source": [
    "j = sympy.Symbol('j')\n",
    "j = sympy.solve(2 ** (8 - j) > val)\n",
    "j = math.floor(j.rhs)\n",
    "print(f'rank_ε = {j}')"
   ]
  },
  {
   "cell_type": "markdown",
   "metadata": {},
   "source": [
    "## Relativer Fehler in 2-Norm der Rang-5 Best-Approximation\n",
    "\n",
    "*Berechnen Sie den relativen Fehler in der 2-Matrixnorm, $||\\mathbf{X} - \\mathbf{X}_r||_2 / ||\\mathbf{X}||_2$, einer Rang-5 Best-Approximation.*\n",
    "\n",
    "$$\n",
    "\\frac{|| \\mathbf{X} - \\mathbf{X}_r ||_2}{|| \\mathbf{X} ||_2} = \\frac{\\sigma_j}{\\sigma_m} < 10^{-1}\n",
    "$$"
   ]
  },
  {
   "cell_type": "code",
   "execution_count": 9,
   "metadata": {},
   "outputs": [
    {
     "name": "stdout",
     "output_type": "stream",
     "text": [
      "i =  0:\t1.0000 ≥ 0.1000\n",
      "i =  1:\t0.5000 ≥ 0.1000\n",
      "i =  2:\t0.2500 ≥ 0.1000\n",
      "i =  3:\t0.1250 ≥ 0.1000\n",
      "i =  4:\t0.0625 < 0.1000\n",
      "==> r = 4\n"
     ]
    }
   ],
   "source": [
    "tol = 10**(-1)\n",
    "\n",
    "r = 0\n",
    "sigma_max = np.max(sigma)\n",
    "for i in range(0, len(sigma_non_zero)):\n",
    "    val = sigma_non_zero[i] / sigma_max\n",
    "    if val < tol:\n",
    "        print(f'i = {i:2}:\\t{val:.4f} < {tol:.4f}')\n",
    "        r = i\n",
    "        break\n",
    "    else:\n",
    "        print(f'i = {i:2}:\\t{val:.4f} ≥ {tol:.4f}')\n",
    "\n",
    "print(f'==> r = {r}')"
   ]
  },
  {
   "cell_type": "markdown",
   "metadata": {},
   "source": [
    "## Totale Varianz\n",
    "\n",
    "Annahme: $\\mathbf{X}$ enthält zentrierte Daten\n",
    "\n",
    "$$\n",
    "T = \\frac{1}{n-1} ||\\mathbf{X}||_F^2\n",
    "$$"
   ]
  },
  {
   "cell_type": "code",
   "execution_count": 10,
   "metadata": {},
   "outputs": [
    {
     "name": "stdout",
     "output_type": "stream",
     "text": [
      "T = 21.8672\n"
     ]
    }
   ],
   "source": [
    "n = 1000\n",
    "T = 1 / (n - 1) * X_F**2\n",
    "print(f'T = {T:.4f}')"
   ]
  },
  {
   "cell_type": "markdown",
   "metadata": {},
   "source": [
    "## 80% Varianz Hauptkomponenten\n",
    "\n",
    "*In wie vielen Hauptkomponenten liegen 80% der Totalen Varianz?*\n",
    "\n",
    "$$\n",
    "\\frac{\\sum_{i=1}^{q\\le\\ell} \\sigma_j^2}{\\sum_{i=1}^{\\ell} \\sigma_j^2} > \\operatorname{Tol} = 0.8\n",
    "$$"
   ]
  },
  {
   "cell_type": "code",
   "execution_count": 11,
   "metadata": {},
   "outputs": [
    {
     "name": "stdout",
     "output_type": "stream",
     "text": [
      "q = 1:\t0.7500 ≤ 0.8000\n",
      "q = 2:\t0.9375 > 0.8000\n",
      "==> j = 2\n"
     ]
    }
   ],
   "source": [
    "tol = 0.8\n",
    "\n",
    "j = 0\n",
    "l = len(sigma_non_zero)\n",
    "\n",
    "# konstant --> nur 1x berechnen\n",
    "denominator = sum(sigma[i]**2 for i in range (1, l))\n",
    "\n",
    "for q in range(1, l):\n",
    "    numerator = sum(sigma[i]**2 for i in range(1, q+1))\n",
    "    val = numerator / denominator\n",
    "    if val > tol:\n",
    "        print(f'q = {q}:\\t{val:.4f} > {tol:.4f}')\n",
    "        j = q\n",
    "        break\n",
    "    else:\n",
    "        print(f'q = {q}:\\t{val:.4f} ≤ {tol:.4f}')\n",
    "\n",
    "print(f'==> j = {j}')"
   ]
  }
 ],
 "metadata": {
  "kernelspec": {
   "display_name": ".venv",
   "language": "python",
   "name": "python3"
  },
  "language_info": {
   "codemirror_mode": {
    "name": "ipython",
    "version": 3
   },
   "file_extension": ".py",
   "mimetype": "text/x-python",
   "name": "python",
   "nbconvert_exporter": "python",
   "pygments_lexer": "ipython3",
   "version": "3.12.3"
  }
 },
 "nbformat": 4,
 "nbformat_minor": 2
}
